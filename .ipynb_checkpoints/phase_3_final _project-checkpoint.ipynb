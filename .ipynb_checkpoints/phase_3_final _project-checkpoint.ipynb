{
 "cells": [
  {
   "cell_type": "markdown",
   "metadata": {},
   "source": [
    "### CUSTOMER CHURN PREDICTION FOR SYRIATEL"
   ]
  },
  {
   "cell_type": "markdown",
   "metadata": {},
   "source": [
    "### INTRODUCTION"
   ]
  },
  {
   "cell_type": "markdown",
   "metadata": {},
   "source": [
    "- Customer churn is a major challenge for telecommunications companies like SyriaTel.Losing customers not only impacts revenue but also increases the cost of acquiring new ones.To address this,SyriaTel wants to identify patterns that lead to customer  churn and take proactive measures to retain them.By analyzing customer behaviour and usage ,This project aims to develop a predictive model that helps the company reduce churn and improve customer satisfaction."
   ]
  },
  {
   "cell_type": "markdown",
   "metadata": {},
   "source": [
    "### BUSINESS UNDERSTANDING\n",
    "\n",
    "- OBJECTIVE \n",
    "- The goal is to predict customer churn for SyriaTel,a telecommunications company.Churn means a customer is likely to stop using SyriaTel's services soon.This is a binary classification problem where the target variable is whether the customer churns or not by looking at the following:  \n",
    "\n",
    "~ To determine which factors influence customers churn.\n",
    "\n",
    "~ To identify and specify which customers segments with high churn rate.\n",
    "\n",
    "~ To create intervention strategies based on the model predictions."
   ]
  },
  {
   "cell_type": "markdown",
   "metadata": {},
   "source": [
    "### PROBLEM STATEMENT\n"
   ]
  },
  {
   "cell_type": "markdown",
   "metadata": {},
   "source": [
    "- SyriaTel has been facing a decline in customer rentention with many users discontinuing their services.The company needs a reliable way to predict which customers are at risk of leaving.This project focuses on building a machine learning model to analyze customer data and identify key factors contributing to churn.With these insights,SyriaTel can implement targeted rentention strategies,reducing customer loss and ensuring long-term business growth. "
   ]
  },
  {
   "cell_type": "markdown",
   "metadata": {},
   "source": [
    "### DATA UNDERSTANDING\n",
    "\n",
    "The dataset was obtained from Kaggle and it consists of 3333 customers and 21 attributes giving details of various aspects of customer behaviour and service usage.The attributes include account length,area code,number of customer service calls and indicators of subcription to international and voicemail plans.The target variable \"Churn\" indicates whether a customer has discontinued the service."
   ]
  },
  {
   "cell_type": "markdown",
   "metadata": {},
   "source": [
    "####  Data analysis"
   ]
  },
  {
   "cell_type": "code",
   "execution_count": 1,
   "metadata": {},
   "outputs": [],
   "source": [
    "# importing the necessary libraries\n",
    "\n",
    "import pandas as pd\n",
    "import numpy as np\n",
    "import seaborn as sns\n",
    "import matplotlib.pyplot as plt\n",
    "%matplotlib inline\n",
    "import xgboost as xgb\n",
    "\n",
    "from sklearn.metrics import accuracy_score,precision_score,recall_score,f1_score,confusion_matrix,roc_auc_score\n",
    "from statsmodels.stats.outliers_influence import variance_inflation_factor\n",
    "from sklearn.preprocessing import StandardScaler\n",
    "from sklearn.model_selection import train_test_split\n",
    "from sklearn.linear_model import LogisticRegression\n",
    "from sklearn.tree import DecisionTreeClassifier\n",
    "from sklearn.ensemble import RandomForestClassifier\n",
    "from sklearn.model_selection import GridSearchCV\n",
    "from sklearn.metrics import roc_curve\n",
    "from xgboost import XGBClassifier\n",
    "from imblearn.over_sampling import SMOTE"
   ]
  },
  {
   "cell_type": "code",
   "execution_count": 2,
   "metadata": {},
   "outputs": [],
   "source": [
    "import warnings\n",
    "warnings.filterwarnings('ignore')\n"
   ]
  },
  {
   "cell_type": "code",
   "execution_count": 3,
   "metadata": {},
   "outputs": [
    {
     "data": {
      "text/html": [
       "<div>\n",
       "<style scoped>\n",
       "    .dataframe tbody tr th:only-of-type {\n",
       "        vertical-align: middle;\n",
       "    }\n",
       "\n",
       "    .dataframe tbody tr th {\n",
       "        vertical-align: top;\n",
       "    }\n",
       "\n",
       "    .dataframe thead th {\n",
       "        text-align: right;\n",
       "    }\n",
       "</style>\n",
       "<table border=\"1\" class=\"dataframe\">\n",
       "  <thead>\n",
       "    <tr style=\"text-align: right;\">\n",
       "      <th></th>\n",
       "      <th>state</th>\n",
       "      <th>account length</th>\n",
       "      <th>area code</th>\n",
       "      <th>phone number</th>\n",
       "      <th>international plan</th>\n",
       "      <th>voice mail plan</th>\n",
       "      <th>number vmail messages</th>\n",
       "      <th>total day minutes</th>\n",
       "      <th>total day calls</th>\n",
       "      <th>total day charge</th>\n",
       "      <th>...</th>\n",
       "      <th>total eve calls</th>\n",
       "      <th>total eve charge</th>\n",
       "      <th>total night minutes</th>\n",
       "      <th>total night calls</th>\n",
       "      <th>total night charge</th>\n",
       "      <th>total intl minutes</th>\n",
       "      <th>total intl calls</th>\n",
       "      <th>total intl charge</th>\n",
       "      <th>customer service calls</th>\n",
       "      <th>churn</th>\n",
       "    </tr>\n",
       "  </thead>\n",
       "  <tbody>\n",
       "    <tr>\n",
       "      <th>0</th>\n",
       "      <td>KS</td>\n",
       "      <td>128</td>\n",
       "      <td>415</td>\n",
       "      <td>382-4657</td>\n",
       "      <td>no</td>\n",
       "      <td>yes</td>\n",
       "      <td>25</td>\n",
       "      <td>265.1</td>\n",
       "      <td>110</td>\n",
       "      <td>45.07</td>\n",
       "      <td>...</td>\n",
       "      <td>99</td>\n",
       "      <td>16.78</td>\n",
       "      <td>244.7</td>\n",
       "      <td>91</td>\n",
       "      <td>11.01</td>\n",
       "      <td>10.0</td>\n",
       "      <td>3</td>\n",
       "      <td>2.70</td>\n",
       "      <td>1</td>\n",
       "      <td>False</td>\n",
       "    </tr>\n",
       "    <tr>\n",
       "      <th>1</th>\n",
       "      <td>OH</td>\n",
       "      <td>107</td>\n",
       "      <td>415</td>\n",
       "      <td>371-7191</td>\n",
       "      <td>no</td>\n",
       "      <td>yes</td>\n",
       "      <td>26</td>\n",
       "      <td>161.6</td>\n",
       "      <td>123</td>\n",
       "      <td>27.47</td>\n",
       "      <td>...</td>\n",
       "      <td>103</td>\n",
       "      <td>16.62</td>\n",
       "      <td>254.4</td>\n",
       "      <td>103</td>\n",
       "      <td>11.45</td>\n",
       "      <td>13.7</td>\n",
       "      <td>3</td>\n",
       "      <td>3.70</td>\n",
       "      <td>1</td>\n",
       "      <td>False</td>\n",
       "    </tr>\n",
       "    <tr>\n",
       "      <th>2</th>\n",
       "      <td>NJ</td>\n",
       "      <td>137</td>\n",
       "      <td>415</td>\n",
       "      <td>358-1921</td>\n",
       "      <td>no</td>\n",
       "      <td>no</td>\n",
       "      <td>0</td>\n",
       "      <td>243.4</td>\n",
       "      <td>114</td>\n",
       "      <td>41.38</td>\n",
       "      <td>...</td>\n",
       "      <td>110</td>\n",
       "      <td>10.30</td>\n",
       "      <td>162.6</td>\n",
       "      <td>104</td>\n",
       "      <td>7.32</td>\n",
       "      <td>12.2</td>\n",
       "      <td>5</td>\n",
       "      <td>3.29</td>\n",
       "      <td>0</td>\n",
       "      <td>False</td>\n",
       "    </tr>\n",
       "    <tr>\n",
       "      <th>3</th>\n",
       "      <td>OH</td>\n",
       "      <td>84</td>\n",
       "      <td>408</td>\n",
       "      <td>375-9999</td>\n",
       "      <td>yes</td>\n",
       "      <td>no</td>\n",
       "      <td>0</td>\n",
       "      <td>299.4</td>\n",
       "      <td>71</td>\n",
       "      <td>50.90</td>\n",
       "      <td>...</td>\n",
       "      <td>88</td>\n",
       "      <td>5.26</td>\n",
       "      <td>196.9</td>\n",
       "      <td>89</td>\n",
       "      <td>8.86</td>\n",
       "      <td>6.6</td>\n",
       "      <td>7</td>\n",
       "      <td>1.78</td>\n",
       "      <td>2</td>\n",
       "      <td>False</td>\n",
       "    </tr>\n",
       "    <tr>\n",
       "      <th>4</th>\n",
       "      <td>OK</td>\n",
       "      <td>75</td>\n",
       "      <td>415</td>\n",
       "      <td>330-6626</td>\n",
       "      <td>yes</td>\n",
       "      <td>no</td>\n",
       "      <td>0</td>\n",
       "      <td>166.7</td>\n",
       "      <td>113</td>\n",
       "      <td>28.34</td>\n",
       "      <td>...</td>\n",
       "      <td>122</td>\n",
       "      <td>12.61</td>\n",
       "      <td>186.9</td>\n",
       "      <td>121</td>\n",
       "      <td>8.41</td>\n",
       "      <td>10.1</td>\n",
       "      <td>3</td>\n",
       "      <td>2.73</td>\n",
       "      <td>3</td>\n",
       "      <td>False</td>\n",
       "    </tr>\n",
       "  </tbody>\n",
       "</table>\n",
       "<p>5 rows × 21 columns</p>\n",
       "</div>"
      ],
      "text/plain": [
       "  state  account length  area code phone number international plan  \\\n",
       "0    KS             128        415     382-4657                 no   \n",
       "1    OH             107        415     371-7191                 no   \n",
       "2    NJ             137        415     358-1921                 no   \n",
       "3    OH              84        408     375-9999                yes   \n",
       "4    OK              75        415     330-6626                yes   \n",
       "\n",
       "  voice mail plan  number vmail messages  total day minutes  total day calls  \\\n",
       "0             yes                     25              265.1              110   \n",
       "1             yes                     26              161.6              123   \n",
       "2              no                      0              243.4              114   \n",
       "3              no                      0              299.4               71   \n",
       "4              no                      0              166.7              113   \n",
       "\n",
       "   total day charge  ...  total eve calls  total eve charge  \\\n",
       "0             45.07  ...               99             16.78   \n",
       "1             27.47  ...              103             16.62   \n",
       "2             41.38  ...              110             10.30   \n",
       "3             50.90  ...               88              5.26   \n",
       "4             28.34  ...              122             12.61   \n",
       "\n",
       "   total night minutes  total night calls  total night charge  \\\n",
       "0                244.7                 91               11.01   \n",
       "1                254.4                103               11.45   \n",
       "2                162.6                104                7.32   \n",
       "3                196.9                 89                8.86   \n",
       "4                186.9                121                8.41   \n",
       "\n",
       "   total intl minutes  total intl calls  total intl charge  \\\n",
       "0                10.0                 3               2.70   \n",
       "1                13.7                 3               3.70   \n",
       "2                12.2                 5               3.29   \n",
       "3                 6.6                 7               1.78   \n",
       "4                10.1                 3               2.73   \n",
       "\n",
       "   customer service calls  churn  \n",
       "0                       1  False  \n",
       "1                       1  False  \n",
       "2                       0  False  \n",
       "3                       2  False  \n",
       "4                       3  False  \n",
       "\n",
       "[5 rows x 21 columns]"
      ]
     },
     "execution_count": 3,
     "metadata": {},
     "output_type": "execute_result"
    }
   ],
   "source": [
    "# loading the dataset\n",
    "\n",
    "df= pd.read_csv('syriatel_customer_churn.csv')\n",
    "df.head()            "
   ]
  },
  {
   "cell_type": "code",
   "execution_count": 4,
   "metadata": {},
   "outputs": [
    {
     "data": {
      "text/plain": [
       "(3333, 21)"
      ]
     },
     "execution_count": 4,
     "metadata": {},
     "output_type": "execute_result"
    }
   ],
   "source": [
    "# check the shape\n",
    "\n",
    "df.shape"
   ]
  },
  {
   "cell_type": "markdown",
   "metadata": {},
   "source": [
    "- This means that we have 3333 rows and 21 columns "
   ]
  },
  {
   "cell_type": "code",
   "execution_count": 5,
   "metadata": {},
   "outputs": [
    {
     "name": "stdout",
     "output_type": "stream",
     "text": [
      "<class 'pandas.core.frame.DataFrame'>\n",
      "RangeIndex: 3333 entries, 0 to 3332\n",
      "Data columns (total 21 columns):\n",
      " #   Column                  Non-Null Count  Dtype  \n",
      "---  ------                  --------------  -----  \n",
      " 0   state                   3333 non-null   object \n",
      " 1   account length          3333 non-null   int64  \n",
      " 2   area code               3333 non-null   int64  \n",
      " 3   phone number            3333 non-null   object \n",
      " 4   international plan      3333 non-null   object \n",
      " 5   voice mail plan         3333 non-null   object \n",
      " 6   number vmail messages   3333 non-null   int64  \n",
      " 7   total day minutes       3333 non-null   float64\n",
      " 8   total day calls         3333 non-null   int64  \n",
      " 9   total day charge        3333 non-null   float64\n",
      " 10  total eve minutes       3333 non-null   float64\n",
      " 11  total eve calls         3333 non-null   int64  \n",
      " 12  total eve charge        3333 non-null   float64\n",
      " 13  total night minutes     3333 non-null   float64\n",
      " 14  total night calls       3333 non-null   int64  \n",
      " 15  total night charge      3333 non-null   float64\n",
      " 16  total intl minutes      3333 non-null   float64\n",
      " 17  total intl calls        3333 non-null   int64  \n",
      " 18  total intl charge       3333 non-null   float64\n",
      " 19  customer service calls  3333 non-null   int64  \n",
      " 20  churn                   3333 non-null   bool   \n",
      "dtypes: bool(1), float64(8), int64(8), object(4)\n",
      "memory usage: 524.2+ KB\n"
     ]
    }
   ],
   "source": [
    "# checking the data summary\n",
    "\n",
    "df.info()"
   ]
  },
  {
   "cell_type": "code",
   "execution_count": 6,
   "metadata": {},
   "outputs": [
    {
     "data": {
      "text/html": [
       "<div>\n",
       "<style scoped>\n",
       "    .dataframe tbody tr th:only-of-type {\n",
       "        vertical-align: middle;\n",
       "    }\n",
       "\n",
       "    .dataframe tbody tr th {\n",
       "        vertical-align: top;\n",
       "    }\n",
       "\n",
       "    .dataframe thead th {\n",
       "        text-align: right;\n",
       "    }\n",
       "</style>\n",
       "<table border=\"1\" class=\"dataframe\">\n",
       "  <thead>\n",
       "    <tr style=\"text-align: right;\">\n",
       "      <th></th>\n",
       "      <th>account length</th>\n",
       "      <th>area code</th>\n",
       "      <th>number vmail messages</th>\n",
       "      <th>total day minutes</th>\n",
       "      <th>total day calls</th>\n",
       "      <th>total day charge</th>\n",
       "      <th>total eve minutes</th>\n",
       "      <th>total eve calls</th>\n",
       "      <th>total eve charge</th>\n",
       "      <th>total night minutes</th>\n",
       "      <th>total night calls</th>\n",
       "      <th>total night charge</th>\n",
       "      <th>total intl minutes</th>\n",
       "      <th>total intl calls</th>\n",
       "      <th>total intl charge</th>\n",
       "      <th>customer service calls</th>\n",
       "    </tr>\n",
       "  </thead>\n",
       "  <tbody>\n",
       "    <tr>\n",
       "      <th>count</th>\n",
       "      <td>3333.000000</td>\n",
       "      <td>3333.000000</td>\n",
       "      <td>3333.000000</td>\n",
       "      <td>3333.000000</td>\n",
       "      <td>3333.000000</td>\n",
       "      <td>3333.000000</td>\n",
       "      <td>3333.000000</td>\n",
       "      <td>3333.000000</td>\n",
       "      <td>3333.000000</td>\n",
       "      <td>3333.000000</td>\n",
       "      <td>3333.000000</td>\n",
       "      <td>3333.000000</td>\n",
       "      <td>3333.000000</td>\n",
       "      <td>3333.000000</td>\n",
       "      <td>3333.000000</td>\n",
       "      <td>3333.000000</td>\n",
       "    </tr>\n",
       "    <tr>\n",
       "      <th>mean</th>\n",
       "      <td>101.064806</td>\n",
       "      <td>437.182418</td>\n",
       "      <td>8.099010</td>\n",
       "      <td>179.775098</td>\n",
       "      <td>100.435644</td>\n",
       "      <td>30.562307</td>\n",
       "      <td>200.980348</td>\n",
       "      <td>100.114311</td>\n",
       "      <td>17.083540</td>\n",
       "      <td>200.872037</td>\n",
       "      <td>100.107711</td>\n",
       "      <td>9.039325</td>\n",
       "      <td>10.237294</td>\n",
       "      <td>4.479448</td>\n",
       "      <td>2.764581</td>\n",
       "      <td>1.562856</td>\n",
       "    </tr>\n",
       "    <tr>\n",
       "      <th>std</th>\n",
       "      <td>39.822106</td>\n",
       "      <td>42.371290</td>\n",
       "      <td>13.688365</td>\n",
       "      <td>54.467389</td>\n",
       "      <td>20.069084</td>\n",
       "      <td>9.259435</td>\n",
       "      <td>50.713844</td>\n",
       "      <td>19.922625</td>\n",
       "      <td>4.310668</td>\n",
       "      <td>50.573847</td>\n",
       "      <td>19.568609</td>\n",
       "      <td>2.275873</td>\n",
       "      <td>2.791840</td>\n",
       "      <td>2.461214</td>\n",
       "      <td>0.753773</td>\n",
       "      <td>1.315491</td>\n",
       "    </tr>\n",
       "    <tr>\n",
       "      <th>min</th>\n",
       "      <td>1.000000</td>\n",
       "      <td>408.000000</td>\n",
       "      <td>0.000000</td>\n",
       "      <td>0.000000</td>\n",
       "      <td>0.000000</td>\n",
       "      <td>0.000000</td>\n",
       "      <td>0.000000</td>\n",
       "      <td>0.000000</td>\n",
       "      <td>0.000000</td>\n",
       "      <td>23.200000</td>\n",
       "      <td>33.000000</td>\n",
       "      <td>1.040000</td>\n",
       "      <td>0.000000</td>\n",
       "      <td>0.000000</td>\n",
       "      <td>0.000000</td>\n",
       "      <td>0.000000</td>\n",
       "    </tr>\n",
       "    <tr>\n",
       "      <th>25%</th>\n",
       "      <td>74.000000</td>\n",
       "      <td>408.000000</td>\n",
       "      <td>0.000000</td>\n",
       "      <td>143.700000</td>\n",
       "      <td>87.000000</td>\n",
       "      <td>24.430000</td>\n",
       "      <td>166.600000</td>\n",
       "      <td>87.000000</td>\n",
       "      <td>14.160000</td>\n",
       "      <td>167.000000</td>\n",
       "      <td>87.000000</td>\n",
       "      <td>7.520000</td>\n",
       "      <td>8.500000</td>\n",
       "      <td>3.000000</td>\n",
       "      <td>2.300000</td>\n",
       "      <td>1.000000</td>\n",
       "    </tr>\n",
       "    <tr>\n",
       "      <th>50%</th>\n",
       "      <td>101.000000</td>\n",
       "      <td>415.000000</td>\n",
       "      <td>0.000000</td>\n",
       "      <td>179.400000</td>\n",
       "      <td>101.000000</td>\n",
       "      <td>30.500000</td>\n",
       "      <td>201.400000</td>\n",
       "      <td>100.000000</td>\n",
       "      <td>17.120000</td>\n",
       "      <td>201.200000</td>\n",
       "      <td>100.000000</td>\n",
       "      <td>9.050000</td>\n",
       "      <td>10.300000</td>\n",
       "      <td>4.000000</td>\n",
       "      <td>2.780000</td>\n",
       "      <td>1.000000</td>\n",
       "    </tr>\n",
       "    <tr>\n",
       "      <th>75%</th>\n",
       "      <td>127.000000</td>\n",
       "      <td>510.000000</td>\n",
       "      <td>20.000000</td>\n",
       "      <td>216.400000</td>\n",
       "      <td>114.000000</td>\n",
       "      <td>36.790000</td>\n",
       "      <td>235.300000</td>\n",
       "      <td>114.000000</td>\n",
       "      <td>20.000000</td>\n",
       "      <td>235.300000</td>\n",
       "      <td>113.000000</td>\n",
       "      <td>10.590000</td>\n",
       "      <td>12.100000</td>\n",
       "      <td>6.000000</td>\n",
       "      <td>3.270000</td>\n",
       "      <td>2.000000</td>\n",
       "    </tr>\n",
       "    <tr>\n",
       "      <th>max</th>\n",
       "      <td>243.000000</td>\n",
       "      <td>510.000000</td>\n",
       "      <td>51.000000</td>\n",
       "      <td>350.800000</td>\n",
       "      <td>165.000000</td>\n",
       "      <td>59.640000</td>\n",
       "      <td>363.700000</td>\n",
       "      <td>170.000000</td>\n",
       "      <td>30.910000</td>\n",
       "      <td>395.000000</td>\n",
       "      <td>175.000000</td>\n",
       "      <td>17.770000</td>\n",
       "      <td>20.000000</td>\n",
       "      <td>20.000000</td>\n",
       "      <td>5.400000</td>\n",
       "      <td>9.000000</td>\n",
       "    </tr>\n",
       "  </tbody>\n",
       "</table>\n",
       "</div>"
      ],
      "text/plain": [
       "       account length    area code  number vmail messages  total day minutes  \\\n",
       "count     3333.000000  3333.000000            3333.000000        3333.000000   \n",
       "mean       101.064806   437.182418               8.099010         179.775098   \n",
       "std         39.822106    42.371290              13.688365          54.467389   \n",
       "min          1.000000   408.000000               0.000000           0.000000   \n",
       "25%         74.000000   408.000000               0.000000         143.700000   \n",
       "50%        101.000000   415.000000               0.000000         179.400000   \n",
       "75%        127.000000   510.000000              20.000000         216.400000   \n",
       "max        243.000000   510.000000              51.000000         350.800000   \n",
       "\n",
       "       total day calls  total day charge  total eve minutes  total eve calls  \\\n",
       "count      3333.000000       3333.000000        3333.000000      3333.000000   \n",
       "mean        100.435644         30.562307         200.980348       100.114311   \n",
       "std          20.069084          9.259435          50.713844        19.922625   \n",
       "min           0.000000          0.000000           0.000000         0.000000   \n",
       "25%          87.000000         24.430000         166.600000        87.000000   \n",
       "50%         101.000000         30.500000         201.400000       100.000000   \n",
       "75%         114.000000         36.790000         235.300000       114.000000   \n",
       "max         165.000000         59.640000         363.700000       170.000000   \n",
       "\n",
       "       total eve charge  total night minutes  total night calls  \\\n",
       "count       3333.000000          3333.000000        3333.000000   \n",
       "mean          17.083540           200.872037         100.107711   \n",
       "std            4.310668            50.573847          19.568609   \n",
       "min            0.000000            23.200000          33.000000   \n",
       "25%           14.160000           167.000000          87.000000   \n",
       "50%           17.120000           201.200000         100.000000   \n",
       "75%           20.000000           235.300000         113.000000   \n",
       "max           30.910000           395.000000         175.000000   \n",
       "\n",
       "       total night charge  total intl minutes  total intl calls  \\\n",
       "count         3333.000000         3333.000000       3333.000000   \n",
       "mean             9.039325           10.237294          4.479448   \n",
       "std              2.275873            2.791840          2.461214   \n",
       "min              1.040000            0.000000          0.000000   \n",
       "25%              7.520000            8.500000          3.000000   \n",
       "50%              9.050000           10.300000          4.000000   \n",
       "75%             10.590000           12.100000          6.000000   \n",
       "max             17.770000           20.000000         20.000000   \n",
       "\n",
       "       total intl charge  customer service calls  \n",
       "count        3333.000000             3333.000000  \n",
       "mean            2.764581                1.562856  \n",
       "std             0.753773                1.315491  \n",
       "min             0.000000                0.000000  \n",
       "25%             2.300000                1.000000  \n",
       "50%             2.780000                1.000000  \n",
       "75%             3.270000                2.000000  \n",
       "max             5.400000                9.000000  "
      ]
     },
     "execution_count": 6,
     "metadata": {},
     "output_type": "execute_result"
    }
   ],
   "source": [
    "# checking the numerical columns\n",
    "\n",
    "df.describe()"
   ]
  },
  {
   "cell_type": "markdown",
   "metadata": {},
   "source": [
    "### DATA CLEANING\n"
   ]
  },
  {
   "cell_type": "code",
   "execution_count": 7,
   "metadata": {},
   "outputs": [
    {
     "data": {
      "text/plain": [
       "state                     0\n",
       "account length            0\n",
       "area code                 0\n",
       "phone number              0\n",
       "international plan        0\n",
       "voice mail plan           0\n",
       "number vmail messages     0\n",
       "total day minutes         0\n",
       "total day calls           0\n",
       "total day charge          0\n",
       "total eve minutes         0\n",
       "total eve calls           0\n",
       "total eve charge          0\n",
       "total night minutes       0\n",
       "total night calls         0\n",
       "total night charge        0\n",
       "total intl minutes        0\n",
       "total intl calls          0\n",
       "total intl charge         0\n",
       "customer service calls    0\n",
       "churn                     0\n",
       "dtype: int64"
      ]
     },
     "execution_count": 7,
     "metadata": {},
     "output_type": "execute_result"
    }
   ],
   "source": [
    "# Checking for null values\n",
    "df.isnull().sum()"
   ]
  },
  {
   "cell_type": "code",
   "execution_count": 8,
   "metadata": {},
   "outputs": [
    {
     "data": {
      "text/plain": [
       "0"
      ]
     },
     "execution_count": 8,
     "metadata": {},
     "output_type": "execute_result"
    }
   ],
   "source": [
    "# checking duplicates\n",
    "df.duplicated().sum()"
   ]
  },
  {
   "cell_type": "code",
   "execution_count": 9,
   "metadata": {},
   "outputs": [
    {
     "data": {
      "text/plain": [
       "state                      object\n",
       "account length              int64\n",
       "area code                   int64\n",
       "phone number               object\n",
       "international plan         object\n",
       "voice mail plan            object\n",
       "number vmail messages       int64\n",
       "total day minutes         float64\n",
       "total day calls             int64\n",
       "total day charge          float64\n",
       "total eve minutes         float64\n",
       "total eve calls             int64\n",
       "total eve charge          float64\n",
       "total night minutes       float64\n",
       "total night calls           int64\n",
       "total night charge        float64\n",
       "total intl minutes        float64\n",
       "total intl calls            int64\n",
       "total intl charge         float64\n",
       "customer service calls      int64\n",
       "churn                       int32\n",
       "dtype: object"
      ]
     },
     "execution_count": 9,
     "metadata": {},
     "output_type": "execute_result"
    }
   ],
   "source": [
    "# converting 'churn' column to numeric (0 for False ,1 for True)\n",
    "df['churn']=df['churn'].astype(int)\n",
    "df.dtypes"
   ]
  },
  {
   "cell_type": "code",
   "execution_count": 10,
   "metadata": {},
   "outputs": [
    {
     "data": {
      "text/html": [
       "<div>\n",
       "<style scoped>\n",
       "    .dataframe tbody tr th:only-of-type {\n",
       "        vertical-align: middle;\n",
       "    }\n",
       "\n",
       "    .dataframe tbody tr th {\n",
       "        vertical-align: top;\n",
       "    }\n",
       "\n",
       "    .dataframe thead th {\n",
       "        text-align: right;\n",
       "    }\n",
       "</style>\n",
       "<table border=\"1\" class=\"dataframe\">\n",
       "  <thead>\n",
       "    <tr style=\"text-align: right;\">\n",
       "      <th></th>\n",
       "      <th>state</th>\n",
       "      <th>account length</th>\n",
       "      <th>area code</th>\n",
       "      <th>international plan</th>\n",
       "      <th>voice mail plan</th>\n",
       "      <th>number vmail messages</th>\n",
       "      <th>total day minutes</th>\n",
       "      <th>total day calls</th>\n",
       "      <th>total day charge</th>\n",
       "      <th>total eve minutes</th>\n",
       "      <th>total eve calls</th>\n",
       "      <th>total eve charge</th>\n",
       "      <th>total night minutes</th>\n",
       "      <th>total night calls</th>\n",
       "      <th>total night charge</th>\n",
       "      <th>total intl minutes</th>\n",
       "      <th>total intl calls</th>\n",
       "      <th>total intl charge</th>\n",
       "      <th>customer service calls</th>\n",
       "      <th>churn</th>\n",
       "    </tr>\n",
       "  </thead>\n",
       "  <tbody>\n",
       "    <tr>\n",
       "      <th>0</th>\n",
       "      <td>KS</td>\n",
       "      <td>128</td>\n",
       "      <td>415</td>\n",
       "      <td>no</td>\n",
       "      <td>yes</td>\n",
       "      <td>25</td>\n",
       "      <td>265.1</td>\n",
       "      <td>110</td>\n",
       "      <td>45.07</td>\n",
       "      <td>197.4</td>\n",
       "      <td>99</td>\n",
       "      <td>16.78</td>\n",
       "      <td>244.7</td>\n",
       "      <td>91</td>\n",
       "      <td>11.01</td>\n",
       "      <td>10.0</td>\n",
       "      <td>3</td>\n",
       "      <td>2.70</td>\n",
       "      <td>1</td>\n",
       "      <td>0</td>\n",
       "    </tr>\n",
       "    <tr>\n",
       "      <th>1</th>\n",
       "      <td>OH</td>\n",
       "      <td>107</td>\n",
       "      <td>415</td>\n",
       "      <td>no</td>\n",
       "      <td>yes</td>\n",
       "      <td>26</td>\n",
       "      <td>161.6</td>\n",
       "      <td>123</td>\n",
       "      <td>27.47</td>\n",
       "      <td>195.5</td>\n",
       "      <td>103</td>\n",
       "      <td>16.62</td>\n",
       "      <td>254.4</td>\n",
       "      <td>103</td>\n",
       "      <td>11.45</td>\n",
       "      <td>13.7</td>\n",
       "      <td>3</td>\n",
       "      <td>3.70</td>\n",
       "      <td>1</td>\n",
       "      <td>0</td>\n",
       "    </tr>\n",
       "    <tr>\n",
       "      <th>2</th>\n",
       "      <td>NJ</td>\n",
       "      <td>137</td>\n",
       "      <td>415</td>\n",
       "      <td>no</td>\n",
       "      <td>no</td>\n",
       "      <td>0</td>\n",
       "      <td>243.4</td>\n",
       "      <td>114</td>\n",
       "      <td>41.38</td>\n",
       "      <td>121.2</td>\n",
       "      <td>110</td>\n",
       "      <td>10.30</td>\n",
       "      <td>162.6</td>\n",
       "      <td>104</td>\n",
       "      <td>7.32</td>\n",
       "      <td>12.2</td>\n",
       "      <td>5</td>\n",
       "      <td>3.29</td>\n",
       "      <td>0</td>\n",
       "      <td>0</td>\n",
       "    </tr>\n",
       "    <tr>\n",
       "      <th>3</th>\n",
       "      <td>OH</td>\n",
       "      <td>84</td>\n",
       "      <td>408</td>\n",
       "      <td>yes</td>\n",
       "      <td>no</td>\n",
       "      <td>0</td>\n",
       "      <td>299.4</td>\n",
       "      <td>71</td>\n",
       "      <td>50.90</td>\n",
       "      <td>61.9</td>\n",
       "      <td>88</td>\n",
       "      <td>5.26</td>\n",
       "      <td>196.9</td>\n",
       "      <td>89</td>\n",
       "      <td>8.86</td>\n",
       "      <td>6.6</td>\n",
       "      <td>7</td>\n",
       "      <td>1.78</td>\n",
       "      <td>2</td>\n",
       "      <td>0</td>\n",
       "    </tr>\n",
       "    <tr>\n",
       "      <th>4</th>\n",
       "      <td>OK</td>\n",
       "      <td>75</td>\n",
       "      <td>415</td>\n",
       "      <td>yes</td>\n",
       "      <td>no</td>\n",
       "      <td>0</td>\n",
       "      <td>166.7</td>\n",
       "      <td>113</td>\n",
       "      <td>28.34</td>\n",
       "      <td>148.3</td>\n",
       "      <td>122</td>\n",
       "      <td>12.61</td>\n",
       "      <td>186.9</td>\n",
       "      <td>121</td>\n",
       "      <td>8.41</td>\n",
       "      <td>10.1</td>\n",
       "      <td>3</td>\n",
       "      <td>2.73</td>\n",
       "      <td>3</td>\n",
       "      <td>0</td>\n",
       "    </tr>\n",
       "    <tr>\n",
       "      <th>...</th>\n",
       "      <td>...</td>\n",
       "      <td>...</td>\n",
       "      <td>...</td>\n",
       "      <td>...</td>\n",
       "      <td>...</td>\n",
       "      <td>...</td>\n",
       "      <td>...</td>\n",
       "      <td>...</td>\n",
       "      <td>...</td>\n",
       "      <td>...</td>\n",
       "      <td>...</td>\n",
       "      <td>...</td>\n",
       "      <td>...</td>\n",
       "      <td>...</td>\n",
       "      <td>...</td>\n",
       "      <td>...</td>\n",
       "      <td>...</td>\n",
       "      <td>...</td>\n",
       "      <td>...</td>\n",
       "      <td>...</td>\n",
       "    </tr>\n",
       "    <tr>\n",
       "      <th>3328</th>\n",
       "      <td>AZ</td>\n",
       "      <td>192</td>\n",
       "      <td>415</td>\n",
       "      <td>no</td>\n",
       "      <td>yes</td>\n",
       "      <td>36</td>\n",
       "      <td>156.2</td>\n",
       "      <td>77</td>\n",
       "      <td>26.55</td>\n",
       "      <td>215.5</td>\n",
       "      <td>126</td>\n",
       "      <td>18.32</td>\n",
       "      <td>279.1</td>\n",
       "      <td>83</td>\n",
       "      <td>12.56</td>\n",
       "      <td>9.9</td>\n",
       "      <td>6</td>\n",
       "      <td>2.67</td>\n",
       "      <td>2</td>\n",
       "      <td>0</td>\n",
       "    </tr>\n",
       "    <tr>\n",
       "      <th>3329</th>\n",
       "      <td>WV</td>\n",
       "      <td>68</td>\n",
       "      <td>415</td>\n",
       "      <td>no</td>\n",
       "      <td>no</td>\n",
       "      <td>0</td>\n",
       "      <td>231.1</td>\n",
       "      <td>57</td>\n",
       "      <td>39.29</td>\n",
       "      <td>153.4</td>\n",
       "      <td>55</td>\n",
       "      <td>13.04</td>\n",
       "      <td>191.3</td>\n",
       "      <td>123</td>\n",
       "      <td>8.61</td>\n",
       "      <td>9.6</td>\n",
       "      <td>4</td>\n",
       "      <td>2.59</td>\n",
       "      <td>3</td>\n",
       "      <td>0</td>\n",
       "    </tr>\n",
       "    <tr>\n",
       "      <th>3330</th>\n",
       "      <td>RI</td>\n",
       "      <td>28</td>\n",
       "      <td>510</td>\n",
       "      <td>no</td>\n",
       "      <td>no</td>\n",
       "      <td>0</td>\n",
       "      <td>180.8</td>\n",
       "      <td>109</td>\n",
       "      <td>30.74</td>\n",
       "      <td>288.8</td>\n",
       "      <td>58</td>\n",
       "      <td>24.55</td>\n",
       "      <td>191.9</td>\n",
       "      <td>91</td>\n",
       "      <td>8.64</td>\n",
       "      <td>14.1</td>\n",
       "      <td>6</td>\n",
       "      <td>3.81</td>\n",
       "      <td>2</td>\n",
       "      <td>0</td>\n",
       "    </tr>\n",
       "    <tr>\n",
       "      <th>3331</th>\n",
       "      <td>CT</td>\n",
       "      <td>184</td>\n",
       "      <td>510</td>\n",
       "      <td>yes</td>\n",
       "      <td>no</td>\n",
       "      <td>0</td>\n",
       "      <td>213.8</td>\n",
       "      <td>105</td>\n",
       "      <td>36.35</td>\n",
       "      <td>159.6</td>\n",
       "      <td>84</td>\n",
       "      <td>13.57</td>\n",
       "      <td>139.2</td>\n",
       "      <td>137</td>\n",
       "      <td>6.26</td>\n",
       "      <td>5.0</td>\n",
       "      <td>10</td>\n",
       "      <td>1.35</td>\n",
       "      <td>2</td>\n",
       "      <td>0</td>\n",
       "    </tr>\n",
       "    <tr>\n",
       "      <th>3332</th>\n",
       "      <td>TN</td>\n",
       "      <td>74</td>\n",
       "      <td>415</td>\n",
       "      <td>no</td>\n",
       "      <td>yes</td>\n",
       "      <td>25</td>\n",
       "      <td>234.4</td>\n",
       "      <td>113</td>\n",
       "      <td>39.85</td>\n",
       "      <td>265.9</td>\n",
       "      <td>82</td>\n",
       "      <td>22.60</td>\n",
       "      <td>241.4</td>\n",
       "      <td>77</td>\n",
       "      <td>10.86</td>\n",
       "      <td>13.7</td>\n",
       "      <td>4</td>\n",
       "      <td>3.70</td>\n",
       "      <td>0</td>\n",
       "      <td>0</td>\n",
       "    </tr>\n",
       "  </tbody>\n",
       "</table>\n",
       "<p>3333 rows × 20 columns</p>\n",
       "</div>"
      ],
      "text/plain": [
       "     state  account length  area code international plan voice mail plan  \\\n",
       "0       KS             128        415                 no             yes   \n",
       "1       OH             107        415                 no             yes   \n",
       "2       NJ             137        415                 no              no   \n",
       "3       OH              84        408                yes              no   \n",
       "4       OK              75        415                yes              no   \n",
       "...    ...             ...        ...                ...             ...   \n",
       "3328    AZ             192        415                 no             yes   \n",
       "3329    WV              68        415                 no              no   \n",
       "3330    RI              28        510                 no              no   \n",
       "3331    CT             184        510                yes              no   \n",
       "3332    TN              74        415                 no             yes   \n",
       "\n",
       "      number vmail messages  total day minutes  total day calls  \\\n",
       "0                        25              265.1              110   \n",
       "1                        26              161.6              123   \n",
       "2                         0              243.4              114   \n",
       "3                         0              299.4               71   \n",
       "4                         0              166.7              113   \n",
       "...                     ...                ...              ...   \n",
       "3328                     36              156.2               77   \n",
       "3329                      0              231.1               57   \n",
       "3330                      0              180.8              109   \n",
       "3331                      0              213.8              105   \n",
       "3332                     25              234.4              113   \n",
       "\n",
       "      total day charge  total eve minutes  total eve calls  total eve charge  \\\n",
       "0                45.07              197.4               99             16.78   \n",
       "1                27.47              195.5              103             16.62   \n",
       "2                41.38              121.2              110             10.30   \n",
       "3                50.90               61.9               88              5.26   \n",
       "4                28.34              148.3              122             12.61   \n",
       "...                ...                ...              ...               ...   \n",
       "3328             26.55              215.5              126             18.32   \n",
       "3329             39.29              153.4               55             13.04   \n",
       "3330             30.74              288.8               58             24.55   \n",
       "3331             36.35              159.6               84             13.57   \n",
       "3332             39.85              265.9               82             22.60   \n",
       "\n",
       "      total night minutes  total night calls  total night charge  \\\n",
       "0                   244.7                 91               11.01   \n",
       "1                   254.4                103               11.45   \n",
       "2                   162.6                104                7.32   \n",
       "3                   196.9                 89                8.86   \n",
       "4                   186.9                121                8.41   \n",
       "...                   ...                ...                 ...   \n",
       "3328                279.1                 83               12.56   \n",
       "3329                191.3                123                8.61   \n",
       "3330                191.9                 91                8.64   \n",
       "3331                139.2                137                6.26   \n",
       "3332                241.4                 77               10.86   \n",
       "\n",
       "      total intl minutes  total intl calls  total intl charge  \\\n",
       "0                   10.0                 3               2.70   \n",
       "1                   13.7                 3               3.70   \n",
       "2                   12.2                 5               3.29   \n",
       "3                    6.6                 7               1.78   \n",
       "4                   10.1                 3               2.73   \n",
       "...                  ...               ...                ...   \n",
       "3328                 9.9                 6               2.67   \n",
       "3329                 9.6                 4               2.59   \n",
       "3330                14.1                 6               3.81   \n",
       "3331                 5.0                10               1.35   \n",
       "3332                13.7                 4               3.70   \n",
       "\n",
       "      customer service calls  churn  \n",
       "0                          1      0  \n",
       "1                          1      0  \n",
       "2                          0      0  \n",
       "3                          2      0  \n",
       "4                          3      0  \n",
       "...                      ...    ...  \n",
       "3328                       2      0  \n",
       "3329                       3      0  \n",
       "3330                       2      0  \n",
       "3331                       2      0  \n",
       "3332                       0      0  \n",
       "\n",
       "[3333 rows x 20 columns]"
      ]
     },
     "execution_count": 10,
     "metadata": {},
     "output_type": "execute_result"
    }
   ],
   "source": [
    "# dropping the phone number column\n",
    "\n",
    "df.drop('phone number', axis =1)"
   ]
  },
  {
   "cell_type": "markdown",
   "metadata": {},
   "source": [
    "### EXPLATORY DATA ANALYSIS"
   ]
  },
  {
   "cell_type": "markdown",
   "metadata": {},
   "source": [
    "Churn Distribution"
   ]
  },
  {
   "cell_type": "code",
   "execution_count": 11,
   "metadata": {},
   "outputs": [
    {
     "data": {
      "image/png": "[encoded data removed]",
      "text/plain": [
       "<Figure size 576x432 with 1 Axes>"
      ]
     },
     "metadata": {},
     "output_type": "display_data"
    }
   ],
   "source": [
    "# calculating the churn counts\n",
    "\n",
    "churn_counts=df['churn'].value_counts()\n",
    "\n",
    "# define colours for the pie chart\n",
    "colors= ['#ff9999' ,'#66b3ff']\n",
    "\n",
    "# Plot pie chart with red theme\n",
    "plt.figure(figsize=(8,6))\n",
    "plt.pie(churn_counts, labels=['No','Yes'], autopct='%1.1f%%',startangle=90, colors=colors)\n",
    "plt.title('Churn distribution')\n",
    "plt.show()\n",
    "\n",
    "\n"
   ]
  },
  {
   "cell_type": "markdown",
   "metadata": {},
   "source": [
    "- This pie chart interprets that majority of customers remained with the company because its represented by 85.5% of customers who did not churn.\n",
    "\n",
    "- The blue portion 14.5% represented customers who did churn,meaning they left the company.\n",
    "\n"
   ]
  },
  {
   "cell_type": "markdown",
   "metadata": {},
   "source": [
    "### Area Code Distribution"
   ]
  },
  {
   "cell_type": "code",
   "execution_count": 12,
   "metadata": {},
   "outputs": [
    {
     "data": {
      "image/png": "[encoded data removed]",
      "text/plain": [
       "<Figure size 576x432 with 1 Axes>"
      ]
     },
     "metadata": {},
     "output_type": "display_data"
    }
   ],
   "source": [
    "# Defining the colors for each area code category\n",
    "colors = ['red','green', 'lightcoral']\n",
    "\n",
    "area_code_counts = df['area code'].value_counts()\n",
    "\n",
    "# Plot a pie \n",
    "\n",
    "plt.figure(figsize=(8,6))\n",
    "plt.pie(area_code_counts,labels=area_code_counts.index,autopct='%1.1f%%', startangle=90, explode = (0, 0.08, 0.08), colors=colors)\n",
    "plt.title('Distribution Area Code')\n",
    "plt.show()"
   ]
  },
  {
   "cell_type": "code",
   "execution_count": 13,
   "metadata": {},
   "outputs": [
    {
     "data": {
      "image/png": "[encoded data removed]",
      "text/plain": [
       "<Figure size 936x648 with 16 Axes>"
      ]
     },
     "metadata": {
      "needs_background": "light"
     },
     "output_type": "display_data"
    }
   ],
   "source": [
    "# Distribution \n",
    "df.drop(columns='churn').hist(figsize=(13,9), color='lightcoral')\n",
    "plt.show()"
   ]
  },
  {
   "cell_type": "code",
   "execution_count": 14,
   "metadata": {},
   "outputs": [
    {
     "name": "stdout",
     "output_type": "stream",
     "text": [
      "state\n",
      "['KS' 'OH' 'NJ' 'OK' 'AL' 'MA' 'MO' 'LA' 'WV' 'IN' 'RI' 'IA' 'MT' 'NY'\n",
      " 'ID' 'VT' 'VA' 'TX' 'FL' 'CO' 'AZ' 'SC' 'NE' 'WY' 'HI' 'IL' 'NH' 'GA'\n",
      " 'AK' 'MD' 'AR' 'WI' 'OR' 'MI' 'DE' 'UT' 'CA' 'MN' 'SD' 'NC' 'WA' 'NM'\n",
      " 'NV' 'DC' 'KY' 'ME' 'MS' 'TN' 'PA' 'CT' 'ND']\n",
      "international plan\n",
      "['no' 'yes']\n",
      "voice mail plan\n",
      "['yes' 'no']\n"
     ]
    }
   ],
   "source": [
    "# Finding unique values of categorical features\n",
    "categorical_columns = df.drop('phone number', axis=1).select_dtypes(include='object').columns\n",
    "for col in categorical_columns:\n",
    "    print(col)\n",
    "    print(df[col].unique())"
   ]
  },
  {
   "cell_type": "markdown",
   "metadata": {},
   "source": [
    "### Subscription plan distribution"
   ]
  },
  {
   "cell_type": "markdown",
   "metadata": {},
   "source": [
    "- There are 3 categorical features that we will be analysing ; state,international plan,voice mail plan"
   ]
  },
  {
   "cell_type": "code",
   "execution_count": 15,
   "metadata": {},
   "outputs": [],
   "source": [
    "# creating the function\n",
    "def plot_categorical_distributions(df,feature):\n",
    "    plt.figure(figsize=(13,9))\n",
    "    sns.countplot(x= feature,data = df,color=\"red\", order= df[feature].value_counts().index)\n",
    "    plt.xticks(rotation=90)\n",
    "    plt.show()\n",
    "    "
   ]
  },
  {
   "cell_type": "markdown",
   "metadata": {},
   "source": [
    "State"
   ]
  },
  {
   "cell_type": "code",
   "execution_count": 16,
   "metadata": {},
   "outputs": [
    {
     "data": {
      "image/png": "[encoded data removed]",
      "text/plain": [
       "<Figure size 936x648 with 1 Axes>"
      ]
     },
     "metadata": {
      "needs_background": "light"
     },
     "output_type": "display_data"
    }
   ],
   "source": [
    "plot_categorical_distributions(df,'state')"
   ]
  },
  {
   "cell_type": "markdown",
   "metadata": {},
   "source": [
    "- Most subcribers are from West Virginia(WW),Minnesota(MN),NewYork(NY),Alabama(AL),Wings Consin(WC) while California(CA) has the least number subcribers."
   ]
  },
  {
   "cell_type": "markdown",
   "metadata": {},
   "source": [
    " Internationa plan "
   ]
  },
  {
   "cell_type": "code",
   "execution_count": 17,
   "metadata": {},
   "outputs": [
    {
     "data": {
      "text/plain": [
       "no     3010\n",
       "yes     323\n",
       "Name: international plan, dtype: int64"
      ]
     },
     "execution_count": 17,
     "metadata": {},
     "output_type": "execute_result"
    }
   ],
   "source": [
    "df['international plan'].value_counts()"
   ]
  },
  {
   "cell_type": "code",
   "execution_count": 18,
   "metadata": {},
   "outputs": [
    {
     "data": {
      "image/png": "[encoded data removed]",
      "text/plain": [
       "<Figure size 936x648 with 1 Axes>"
      ]
     },
     "metadata": {
      "needs_background": "light"
     },
     "output_type": "display_data"
    }
   ],
   "source": [
    "plot_categorical_distributions(df,'international plan')"
   ]
  },
  {
   "cell_type": "markdown",
   "metadata": {},
   "source": [
    "- In international plan only 323 have subscribed to  the services while 3010 have not subcribed"
   ]
  },
  {
   "cell_type": "markdown",
   "metadata": {},
   "source": [
    "voice mail plan"
   ]
  },
  {
   "cell_type": "code",
   "execution_count": 19,
   "metadata": {},
   "outputs": [
    {
     "data": {
      "text/plain": [
       "no     2411\n",
       "yes     922\n",
       "Name: voice mail plan, dtype: int64"
      ]
     },
     "execution_count": 19,
     "metadata": {},
     "output_type": "execute_result"
    }
   ],
   "source": [
    "df['voice mail plan'].value_counts()"
   ]
  },
  {
   "cell_type": "code",
   "execution_count": 20,
   "metadata": {},
   "outputs": [
    {
     "data": {
      "image/png": "[encoded data removed]",
      "text/plain": [
       "<Figure size 936x648 with 1 Axes>"
      ]
     },
     "metadata": {
      "needs_background": "light"
     },
     "output_type": "display_data"
    }
   ],
   "source": [
    "plot_categorical_distributions(df,'voice mail plan')"
   ]
  },
  {
   "cell_type": "markdown",
   "metadata": {},
   "source": [
    "### Minutes  Distribution"
   ]
  },
  {
   "cell_type": "code",
   "execution_count": 21,
   "metadata": {},
   "outputs": [
    {
     "data": {
      "image/png": "[encoded data removed]",
      "text/plain": [
       "<Figure size 576x288 with 1 Axes>"
      ]
     },
     "metadata": {
      "needs_background": "light"
     },
     "output_type": "display_data"
    }
   ],
   "source": [
    "# Defining column name\n",
    "col_sum = ['total day minutes','total eve minutes','total intl minutes','total night minutes']\n",
    "\n",
    "# Calculating the sum of each column\n",
    "sums= df[col_sum].sum()\n",
    "\n",
    "plt.figure(figsize=(8,4))\n",
    "\n",
    "# plotting the histogram bars\n",
    "bars = plt.bar(sums.index, sums,color= 'brown')\n",
    "\n",
    "plt.xlabel('Columns')\n",
    "plt.ylabel('Total Min')\n",
    "plt.title('Total Min Distribution')\n",
    "\n",
    "#Adding % labels\n",
    "for bar in bars:\n",
    "    height=bar.get_height()\n",
    "    plt.text(bar.get_x()+bar.get_width()/2.,height + 10, f\"{height/sum(sums)*100:.1f}%\", ha='center', va ='bottom')\n",
    "    \n",
    "plt.xticks(rotation=45)\n",
    "plt.show()"
   ]
  },
  {
   "cell_type": "markdown",
   "metadata": {},
   "source": [
    "### FINDINGS\n",
    "\n",
    "- This bar graph represents the distribution of total call minutes across different time periods with the majority of the call minutes being distributed across evening (34.0%),night (33.9%),day (30.4%) with international minutes accounting for only (1.7%) of the total usage .This suggests that most customers activity occurs during non-international calls since most calls occurs during day,evening,and night.\n"
   ]
  },
  {
   "cell_type": "markdown",
   "metadata": {},
   "source": [
    "### Correlation of features\n",
    "\n"
   ]
  },
  {
   "cell_type": "code",
   "execution_count": 22,
   "metadata": {},
   "outputs": [
    {
     "data": {
      "image/png": "[encoded data removed]",
      "text/plain": [
       "<Figure size 720x432 with 2 Axes>"
      ]
     },
     "metadata": {
      "needs_background": "light"
     },
     "output_type": "display_data"
    }
   ],
   "source": [
    "# Excluding Non-numerics columns\n",
    "numeric_df= df.select_dtypes(include=['number'])\n",
    "\n",
    "# Calculating the correlational matrix \n",
    "corr_matrix= numeric_df.corr()\n",
    "\n",
    "# Ploting the heat map\n",
    "plt.figure(figsize=(10,6))\n",
    "sns.heatmap(corr_matrix,annot=True, cmap='coolwarm', fmt=\".2f\",linewidth=0.5)\n",
    "plt.title('Correlational matrix features')\n",
    "plt.show()"
   ]
  },
  {
   "cell_type": "markdown",
   "metadata": {},
   "source": [
    "### FINDINGS"
   ]
  },
  {
   "cell_type": "markdown",
   "metadata": {},
   "source": [
    "- The red areas  represent strong positive correlations(closer to 1)\n",
    "- Blue areas represents weak or negative correlations(closer to 0 or -1)\n",
    "- Features like total day minutes,total day charge ,today evening charge and total night charges are highly correlated,which is expected.\n",
    "- Churn has a weak correlation with customer service calls meaning more service calls might slightly increase the likelihood of churn.\n"
   ]
  },
  {
   "cell_type": "code",
   "execution_count": 23,
   "metadata": {},
   "outputs": [
    {
     "data": {
      "image/png": "[encoded data removed]",
      "text/plain": [
       "<Figure size 576x432 with 1 Axes>"
      ]
     },
     "metadata": {
      "needs_background": "light"
     },
     "output_type": "display_data"
    }
   ],
   "source": [
    "\n",
    "#Calculating churn rate percentage for each number of customer service calls\n",
    "churn_rate=df.groupby('customer service calls')['churn'].mean()*100\n",
    "\n",
    "# Plotting a bar plot\n",
    "churn_rate.plot(kind ='bar', figsize=(8,6),color='Red')\n",
    "\n",
    "#Adding title and labels\n",
    "plt.title('Churn Rate Percentage by Customer Service Calls')\n",
    "plt.xlabel('Number of Customer Service Calls')\n",
    "plt.ylabel('Churn rate %')\n",
    "\n",
    "#Displaying the plot\n",
    "plt.show()"
   ]
  },
  {
   "cell_type": "markdown",
   "metadata": {},
   "source": [
    "### Findings"
   ]
  },
  {
   "cell_type": "markdown",
   "metadata": {},
   "source": [
    "- This bar chart shows the relationship between the number of customer service calls and churn rate perecentage.\n",
    "- Customers with fewer service calls (0-3) hav a low churn rate,meaning they are generally satisfied and less likely to leave.\n",
    "- From 4 customer service calls onwards,churn rate increases significantly,indicating dissatisfaction.\n",
    "- At 9 customer service calls,the churn rate reaches nearly 100%,meaning almost all customers who called this many times ended up leaving."
   ]
  },
  {
   "cell_type": "markdown",
   "metadata": {},
   "source": [
    "### DATA PREPARATION AND MODELLING"
   ]
  },
  {
   "cell_type": "markdown",
   "metadata": {},
   "source": [
    "#### Multicollinearity of features"
   ]
  },
  {
   "cell_type": "code",
   "execution_count": 24,
   "metadata": {},
   "outputs": [
    {
     "data": {
      "text/html": [
       "<div>\n",
       "<style scoped>\n",
       "    .dataframe tbody tr th:only-of-type {\n",
       "        vertical-align: middle;\n",
       "    }\n",
       "\n",
       "    .dataframe tbody tr th {\n",
       "        vertical-align: top;\n",
       "    }\n",
       "\n",
       "    .dataframe thead th {\n",
       "        text-align: right;\n",
       "    }\n",
       "</style>\n",
       "<table border=\"1\" class=\"dataframe\">\n",
       "  <thead>\n",
       "    <tr style=\"text-align: right;\">\n",
       "      <th></th>\n",
       "      <th>feature</th>\n",
       "      <th>VIF</th>\n",
       "    </tr>\n",
       "  </thead>\n",
       "  <tbody>\n",
       "    <tr>\n",
       "      <th>0</th>\n",
       "      <td>total day minutes</td>\n",
       "      <td>9.673057</td>\n",
       "    </tr>\n",
       "    <tr>\n",
       "      <th>1</th>\n",
       "      <td>total eve minutes</td>\n",
       "      <td>12.026619</td>\n",
       "    </tr>\n",
       "    <tr>\n",
       "      <th>2</th>\n",
       "      <td>total night minutes</td>\n",
       "      <td>12.000415</td>\n",
       "    </tr>\n",
       "    <tr>\n",
       "      <th>3</th>\n",
       "      <td>total intl minutes</td>\n",
       "      <td>10.844008</td>\n",
       "    </tr>\n",
       "  </tbody>\n",
       "</table>\n",
       "</div>"
      ],
      "text/plain": [
       "               feature        VIF\n",
       "0    total day minutes   9.673057\n",
       "1    total eve minutes  12.026619\n",
       "2  total night minutes  12.000415\n",
       "3   total intl minutes  10.844008"
      ]
     },
     "execution_count": 24,
     "metadata": {},
     "output_type": "execute_result"
    }
   ],
   "source": [
    "# Independent variables to check multicollinearity\n",
    "X = df[['total day minutes', 'total eve minutes','total night minutes', 'total intl minutes']]\n",
    "\n",
    "# Calculating VIF(variance inflation factor) for each variable\n",
    "vif_data = pd.DataFrame()\n",
    "vif_data['feature']=X.columns\n",
    "vif_data['VIF']=[variance_inflation_factor(X.values,i) for i in range (len(X.columns))]\n",
    "\n",
    "vif_data"
   ]
  },
  {
   "cell_type": "markdown",
   "metadata": {},
   "source": [
    "- Dropping the columns that have a high correlation with other features,which will help to prevent multicollinearity in the model.\n",
    "- It will help in removing redundant columns helps to avoid overfitting and reduces computational complexity."
   ]
  },
  {
   "cell_type": "code",
   "execution_count": 25,
   "metadata": {},
   "outputs": [
    {
     "data": {
      "text/html": [
       "<div>\n",
       "<style scoped>\n",
       "    .dataframe tbody tr th:only-of-type {\n",
       "        vertical-align: middle;\n",
       "    }\n",
       "\n",
       "    .dataframe tbody tr th {\n",
       "        vertical-align: top;\n",
       "    }\n",
       "\n",
       "    .dataframe thead th {\n",
       "        text-align: right;\n",
       "    }\n",
       "</style>\n",
       "<table border=\"1\" class=\"dataframe\">\n",
       "  <thead>\n",
       "    <tr style=\"text-align: right;\">\n",
       "      <th></th>\n",
       "      <th>state</th>\n",
       "      <th>account length</th>\n",
       "      <th>area code</th>\n",
       "      <th>phone number</th>\n",
       "      <th>international plan</th>\n",
       "      <th>voice mail plan</th>\n",
       "      <th>number vmail messages</th>\n",
       "      <th>total day calls</th>\n",
       "      <th>total day charge</th>\n",
       "      <th>total eve minutes</th>\n",
       "      <th>total eve calls</th>\n",
       "      <th>total night calls</th>\n",
       "      <th>total night charge</th>\n",
       "      <th>total intl calls</th>\n",
       "      <th>total intl charge</th>\n",
       "      <th>customer service calls</th>\n",
       "      <th>churn</th>\n",
       "    </tr>\n",
       "  </thead>\n",
       "  <tbody>\n",
       "    <tr>\n",
       "      <th>0</th>\n",
       "      <td>KS</td>\n",
       "      <td>128</td>\n",
       "      <td>415</td>\n",
       "      <td>382-4657</td>\n",
       "      <td>no</td>\n",
       "      <td>yes</td>\n",
       "      <td>25</td>\n",
       "      <td>110</td>\n",
       "      <td>45.07</td>\n",
       "      <td>197.4</td>\n",
       "      <td>99</td>\n",
       "      <td>91</td>\n",
       "      <td>11.01</td>\n",
       "      <td>3</td>\n",
       "      <td>2.70</td>\n",
       "      <td>1</td>\n",
       "      <td>0</td>\n",
       "    </tr>\n",
       "    <tr>\n",
       "      <th>1</th>\n",
       "      <td>OH</td>\n",
       "      <td>107</td>\n",
       "      <td>415</td>\n",
       "      <td>371-7191</td>\n",
       "      <td>no</td>\n",
       "      <td>yes</td>\n",
       "      <td>26</td>\n",
       "      <td>123</td>\n",
       "      <td>27.47</td>\n",
       "      <td>195.5</td>\n",
       "      <td>103</td>\n",
       "      <td>103</td>\n",
       "      <td>11.45</td>\n",
       "      <td>3</td>\n",
       "      <td>3.70</td>\n",
       "      <td>1</td>\n",
       "      <td>0</td>\n",
       "    </tr>\n",
       "    <tr>\n",
       "      <th>2</th>\n",
       "      <td>NJ</td>\n",
       "      <td>137</td>\n",
       "      <td>415</td>\n",
       "      <td>358-1921</td>\n",
       "      <td>no</td>\n",
       "      <td>no</td>\n",
       "      <td>0</td>\n",
       "      <td>114</td>\n",
       "      <td>41.38</td>\n",
       "      <td>121.2</td>\n",
       "      <td>110</td>\n",
       "      <td>104</td>\n",
       "      <td>7.32</td>\n",
       "      <td>5</td>\n",
       "      <td>3.29</td>\n",
       "      <td>0</td>\n",
       "      <td>0</td>\n",
       "    </tr>\n",
       "    <tr>\n",
       "      <th>3</th>\n",
       "      <td>OH</td>\n",
       "      <td>84</td>\n",
       "      <td>408</td>\n",
       "      <td>375-9999</td>\n",
       "      <td>yes</td>\n",
       "      <td>no</td>\n",
       "      <td>0</td>\n",
       "      <td>71</td>\n",
       "      <td>50.90</td>\n",
       "      <td>61.9</td>\n",
       "      <td>88</td>\n",
       "      <td>89</td>\n",
       "      <td>8.86</td>\n",
       "      <td>7</td>\n",
       "      <td>1.78</td>\n",
       "      <td>2</td>\n",
       "      <td>0</td>\n",
       "    </tr>\n",
       "    <tr>\n",
       "      <th>4</th>\n",
       "      <td>OK</td>\n",
       "      <td>75</td>\n",
       "      <td>415</td>\n",
       "      <td>330-6626</td>\n",
       "      <td>yes</td>\n",
       "      <td>no</td>\n",
       "      <td>0</td>\n",
       "      <td>113</td>\n",
       "      <td>28.34</td>\n",
       "      <td>148.3</td>\n",
       "      <td>122</td>\n",
       "      <td>121</td>\n",
       "      <td>8.41</td>\n",
       "      <td>3</td>\n",
       "      <td>2.73</td>\n",
       "      <td>3</td>\n",
       "      <td>0</td>\n",
       "    </tr>\n",
       "  </tbody>\n",
       "</table>\n",
       "</div>"
      ],
      "text/plain": [
       "  state  account length  area code phone number international plan  \\\n",
       "0    KS             128        415     382-4657                 no   \n",
       "1    OH             107        415     371-7191                 no   \n",
       "2    NJ             137        415     358-1921                 no   \n",
       "3    OH              84        408     375-9999                yes   \n",
       "4    OK              75        415     330-6626                yes   \n",
       "\n",
       "  voice mail plan  number vmail messages  total day calls  total day charge  \\\n",
       "0             yes                     25              110             45.07   \n",
       "1             yes                     26              123             27.47   \n",
       "2              no                      0              114             41.38   \n",
       "3              no                      0               71             50.90   \n",
       "4              no                      0              113             28.34   \n",
       "\n",
       "   total eve minutes  total eve calls  total night calls  total night charge  \\\n",
       "0              197.4               99                 91               11.01   \n",
       "1              195.5              103                103               11.45   \n",
       "2              121.2              110                104                7.32   \n",
       "3               61.9               88                 89                8.86   \n",
       "4              148.3              122                121                8.41   \n",
       "\n",
       "   total intl calls  total intl charge  customer service calls  churn  \n",
       "0                 3               2.70                       1      0  \n",
       "1                 3               3.70                       1      0  \n",
       "2                 5               3.29                       0      0  \n",
       "3                 7               1.78                       2      0  \n",
       "4                 3               2.73                       3      0  "
      ]
     },
     "execution_count": 25,
     "metadata": {},
     "output_type": "execute_result"
    }
   ],
   "source": [
    "# drop the columns with high correlation\n",
    "columns_drop = ['total day minutes','total eve charge','total night minutes', 'total intl minutes']\n",
    "df = df.drop(columns_drop, axis =1)\n",
    "df.head()"
   ]
  },
  {
   "cell_type": "code",
   "execution_count": 26,
   "metadata": {},
   "outputs": [
    {
     "data": {
      "text/plain": [
       "state                      object\n",
       "account length              int64\n",
       "area code                   int64\n",
       "phone number               object\n",
       "international plan         object\n",
       "voice mail plan            object\n",
       "number vmail messages       int64\n",
       "total day calls             int64\n",
       "total day charge          float64\n",
       "total eve minutes         float64\n",
       "total eve calls             int64\n",
       "total night calls           int64\n",
       "total night charge        float64\n",
       "total intl calls            int64\n",
       "total intl charge         float64\n",
       "customer service calls      int64\n",
       "churn                       int32\n",
       "dtype: object"
      ]
     },
     "execution_count": 26,
     "metadata": {},
     "output_type": "execute_result"
    }
   ],
   "source": [
    "df.dtypes"
   ]
  },
  {
   "cell_type": "code",
   "execution_count": 27,
   "metadata": {},
   "outputs": [],
   "source": [
    "# Dummy Variables\n",
    "df = pd.get_dummies(df,columns=['state','international plan','voice mail plan'], drop_first = True)"
   ]
  },
  {
   "cell_type": "code",
   "execution_count": 28,
   "metadata": {},
   "outputs": [],
   "source": [
    "df.drop('phone number',axis = 1, inplace=True)"
   ]
  },
  {
   "cell_type": "code",
   "execution_count": 29,
   "metadata": {
    "scrolled": true
   },
   "outputs": [
    {
     "name": "stdout",
     "output_type": "stream",
     "text": [
      "<class 'pandas.core.frame.DataFrame'>\n",
      "RangeIndex: 3333 entries, 0 to 3332\n",
      "Data columns (total 65 columns):\n",
      " #   Column                  Non-Null Count  Dtype  \n",
      "---  ------                  --------------  -----  \n",
      " 0   account length          3333 non-null   int64  \n",
      " 1   area code               3333 non-null   int64  \n",
      " 2   number vmail messages   3333 non-null   int64  \n",
      " 3   total day calls         3333 non-null   int64  \n",
      " 4   total day charge        3333 non-null   float64\n",
      " 5   total eve minutes       3333 non-null   float64\n",
      " 6   total eve calls         3333 non-null   int64  \n",
      " 7   total night calls       3333 non-null   int64  \n",
      " 8   total night charge      3333 non-null   float64\n",
      " 9   total intl calls        3333 non-null   int64  \n",
      " 10  total intl charge       3333 non-null   float64\n",
      " 11  customer service calls  3333 non-null   int64  \n",
      " 12  churn                   3333 non-null   int32  \n",
      " 13  state_AL                3333 non-null   uint8  \n",
      " 14  state_AR                3333 non-null   uint8  \n",
      " 15  state_AZ                3333 non-null   uint8  \n",
      " 16  state_CA                3333 non-null   uint8  \n",
      " 17  state_CO                3333 non-null   uint8  \n",
      " 18  state_CT                3333 non-null   uint8  \n",
      " 19  state_DC                3333 non-null   uint8  \n",
      " 20  state_DE                3333 non-null   uint8  \n",
      " 21  state_FL                3333 non-null   uint8  \n",
      " 22  state_GA                3333 non-null   uint8  \n",
      " 23  state_HI                3333 non-null   uint8  \n",
      " 24  state_IA                3333 non-null   uint8  \n",
      " 25  state_ID                3333 non-null   uint8  \n",
      " 26  state_IL                3333 non-null   uint8  \n",
      " 27  state_IN                3333 non-null   uint8  \n",
      " 28  state_KS                3333 non-null   uint8  \n",
      " 29  state_KY                3333 non-null   uint8  \n",
      " 30  state_LA                3333 non-null   uint8  \n",
      " 31  state_MA                3333 non-null   uint8  \n",
      " 32  state_MD                3333 non-null   uint8  \n",
      " 33  state_ME                3333 non-null   uint8  \n",
      " 34  state_MI                3333 non-null   uint8  \n",
      " 35  state_MN                3333 non-null   uint8  \n",
      " 36  state_MO                3333 non-null   uint8  \n",
      " 37  state_MS                3333 non-null   uint8  \n",
      " 38  state_MT                3333 non-null   uint8  \n",
      " 39  state_NC                3333 non-null   uint8  \n",
      " 40  state_ND                3333 non-null   uint8  \n",
      " 41  state_NE                3333 non-null   uint8  \n",
      " 42  state_NH                3333 non-null   uint8  \n",
      " 43  state_NJ                3333 non-null   uint8  \n",
      " 44  state_NM                3333 non-null   uint8  \n",
      " 45  state_NV                3333 non-null   uint8  \n",
      " 46  state_NY                3333 non-null   uint8  \n",
      " 47  state_OH                3333 non-null   uint8  \n",
      " 48  state_OK                3333 non-null   uint8  \n",
      " 49  state_OR                3333 non-null   uint8  \n",
      " 50  state_PA                3333 non-null   uint8  \n",
      " 51  state_RI                3333 non-null   uint8  \n",
      " 52  state_SC                3333 non-null   uint8  \n",
      " 53  state_SD                3333 non-null   uint8  \n",
      " 54  state_TN                3333 non-null   uint8  \n",
      " 55  state_TX                3333 non-null   uint8  \n",
      " 56  state_UT                3333 non-null   uint8  \n",
      " 57  state_VA                3333 non-null   uint8  \n",
      " 58  state_VT                3333 non-null   uint8  \n",
      " 59  state_WA                3333 non-null   uint8  \n",
      " 60  state_WI                3333 non-null   uint8  \n",
      " 61  state_WV                3333 non-null   uint8  \n",
      " 62  state_WY                3333 non-null   uint8  \n",
      " 63  international plan_yes  3333 non-null   uint8  \n",
      " 64  voice mail plan_yes     3333 non-null   uint8  \n",
      "dtypes: float64(4), int32(1), int64(8), uint8(52)\n",
      "memory usage: 494.9 KB\n"
     ]
    }
   ],
   "source": [
    "df.info()"
   ]
  },
  {
   "cell_type": "markdown",
   "metadata": {},
   "source": [
    "### Train Test split\n",
    "\n"
   ]
  },
  {
   "cell_type": "code",
   "execution_count": 30,
   "metadata": {},
   "outputs": [],
   "source": [
    "# spliiting the dataset into features (X) and target variable (y)\n",
    "\n",
    "y= df['churn']\n",
    "X= df.drop(columns=['churn'])\n",
    "\n",
    "# split the data into training and testing sets\n",
    "\n",
    "X_train,X_test,y_train,y_test = train_test_split(X, y, test_size = 0.2 ,random_state = 42)"
   ]
  },
  {
   "cell_type": "markdown",
   "metadata": {},
   "source": [
    "### Scaling\n"
   ]
  },
  {
   "cell_type": "code",
   "execution_count": 31,
   "metadata": {},
   "outputs": [
    {
     "data": {
      "text/html": [
       "<div>\n",
       "<style scoped>\n",
       "    .dataframe tbody tr th:only-of-type {\n",
       "        vertical-align: middle;\n",
       "    }\n",
       "\n",
       "    .dataframe tbody tr th {\n",
       "        vertical-align: top;\n",
       "    }\n",
       "\n",
       "    .dataframe thead th {\n",
       "        text-align: right;\n",
       "    }\n",
       "</style>\n",
       "<table border=\"1\" class=\"dataframe\">\n",
       "  <thead>\n",
       "    <tr style=\"text-align: right;\">\n",
       "      <th></th>\n",
       "      <th>account length</th>\n",
       "      <th>area code</th>\n",
       "      <th>number vmail messages</th>\n",
       "      <th>total day calls</th>\n",
       "      <th>total day charge</th>\n",
       "      <th>total eve minutes</th>\n",
       "      <th>total eve calls</th>\n",
       "      <th>total night calls</th>\n",
       "      <th>total night charge</th>\n",
       "      <th>total intl calls</th>\n",
       "      <th>...</th>\n",
       "      <th>state_TX</th>\n",
       "      <th>state_UT</th>\n",
       "      <th>state_VA</th>\n",
       "      <th>state_VT</th>\n",
       "      <th>state_WA</th>\n",
       "      <th>state_WI</th>\n",
       "      <th>state_WV</th>\n",
       "      <th>state_WY</th>\n",
       "      <th>international plan_yes</th>\n",
       "      <th>voice mail plan_yes</th>\n",
       "    </tr>\n",
       "  </thead>\n",
       "  <tbody>\n",
       "    <tr>\n",
       "      <th>0</th>\n",
       "      <td>0.676489</td>\n",
       "      <td>-0.523603</td>\n",
       "      <td>1.234883</td>\n",
       "      <td>0.476643</td>\n",
       "      <td>1.567036</td>\n",
       "      <td>-0.070610</td>\n",
       "      <td>-0.055940</td>\n",
       "      <td>-0.465494</td>\n",
       "      <td>0.866029</td>\n",
       "      <td>-0.601195</td>\n",
       "      <td>...</td>\n",
       "      <td>-0.14859</td>\n",
       "      <td>-0.14859</td>\n",
       "      <td>-0.153781</td>\n",
       "      <td>-0.149642</td>\n",
       "      <td>-0.142134</td>\n",
       "      <td>-0.1548</td>\n",
       "      <td>-0.18124</td>\n",
       "      <td>-0.153781</td>\n",
       "      <td>-0.327580</td>\n",
       "      <td>1.617086</td>\n",
       "    </tr>\n",
       "    <tr>\n",
       "      <th>1</th>\n",
       "      <td>0.149065</td>\n",
       "      <td>-0.523603</td>\n",
       "      <td>1.307948</td>\n",
       "      <td>1.124503</td>\n",
       "      <td>-0.334013</td>\n",
       "      <td>-0.108080</td>\n",
       "      <td>0.144867</td>\n",
       "      <td>0.147825</td>\n",
       "      <td>1.059390</td>\n",
       "      <td>-0.601195</td>\n",
       "      <td>...</td>\n",
       "      <td>-0.14859</td>\n",
       "      <td>-0.14859</td>\n",
       "      <td>-0.153781</td>\n",
       "      <td>-0.149642</td>\n",
       "      <td>-0.142134</td>\n",
       "      <td>-0.1548</td>\n",
       "      <td>-0.18124</td>\n",
       "      <td>-0.153781</td>\n",
       "      <td>-0.327580</td>\n",
       "      <td>1.617086</td>\n",
       "    </tr>\n",
       "    <tr>\n",
       "      <th>2</th>\n",
       "      <td>0.902529</td>\n",
       "      <td>-0.523603</td>\n",
       "      <td>-0.591760</td>\n",
       "      <td>0.675985</td>\n",
       "      <td>1.168464</td>\n",
       "      <td>-1.573383</td>\n",
       "      <td>0.496279</td>\n",
       "      <td>0.198935</td>\n",
       "      <td>-0.755571</td>\n",
       "      <td>0.211534</td>\n",
       "      <td>...</td>\n",
       "      <td>-0.14859</td>\n",
       "      <td>-0.14859</td>\n",
       "      <td>-0.153781</td>\n",
       "      <td>-0.149642</td>\n",
       "      <td>-0.142134</td>\n",
       "      <td>-0.1548</td>\n",
       "      <td>-0.18124</td>\n",
       "      <td>-0.153781</td>\n",
       "      <td>-0.327580</td>\n",
       "      <td>-0.618396</td>\n",
       "    </tr>\n",
       "    <tr>\n",
       "      <th>3</th>\n",
       "      <td>-0.428590</td>\n",
       "      <td>-0.688834</td>\n",
       "      <td>-0.591760</td>\n",
       "      <td>-1.466936</td>\n",
       "      <td>2.196759</td>\n",
       "      <td>-2.742865</td>\n",
       "      <td>-0.608159</td>\n",
       "      <td>-0.567714</td>\n",
       "      <td>-0.078806</td>\n",
       "      <td>1.024263</td>\n",
       "      <td>...</td>\n",
       "      <td>-0.14859</td>\n",
       "      <td>-0.14859</td>\n",
       "      <td>-0.153781</td>\n",
       "      <td>-0.149642</td>\n",
       "      <td>-0.142134</td>\n",
       "      <td>-0.1548</td>\n",
       "      <td>-0.18124</td>\n",
       "      <td>-0.153781</td>\n",
       "      <td>3.052685</td>\n",
       "      <td>-0.618396</td>\n",
       "    </tr>\n",
       "    <tr>\n",
       "      <th>4</th>\n",
       "      <td>-0.654629</td>\n",
       "      <td>-0.523603</td>\n",
       "      <td>-0.591760</td>\n",
       "      <td>0.626149</td>\n",
       "      <td>-0.240041</td>\n",
       "      <td>-1.038932</td>\n",
       "      <td>1.098699</td>\n",
       "      <td>1.067803</td>\n",
       "      <td>-0.276562</td>\n",
       "      <td>-0.601195</td>\n",
       "      <td>...</td>\n",
       "      <td>-0.14859</td>\n",
       "      <td>-0.14859</td>\n",
       "      <td>-0.153781</td>\n",
       "      <td>-0.149642</td>\n",
       "      <td>-0.142134</td>\n",
       "      <td>-0.1548</td>\n",
       "      <td>-0.18124</td>\n",
       "      <td>-0.153781</td>\n",
       "      <td>3.052685</td>\n",
       "      <td>-0.618396</td>\n",
       "    </tr>\n",
       "  </tbody>\n",
       "</table>\n",
       "<p>5 rows × 64 columns</p>\n",
       "</div>"
      ],
      "text/plain": [
       "   account length  area code  number vmail messages  total day calls  \\\n",
       "0        0.676489  -0.523603               1.234883         0.476643   \n",
       "1        0.149065  -0.523603               1.307948         1.124503   \n",
       "2        0.902529  -0.523603              -0.591760         0.675985   \n",
       "3       -0.428590  -0.688834              -0.591760        -1.466936   \n",
       "4       -0.654629  -0.523603              -0.591760         0.626149   \n",
       "\n",
       "   total day charge  total eve minutes  total eve calls  total night calls  \\\n",
       "0          1.567036          -0.070610        -0.055940          -0.465494   \n",
       "1         -0.334013          -0.108080         0.144867           0.147825   \n",
       "2          1.168464          -1.573383         0.496279           0.198935   \n",
       "3          2.196759          -2.742865        -0.608159          -0.567714   \n",
       "4         -0.240041          -1.038932         1.098699           1.067803   \n",
       "\n",
       "   total night charge  total intl calls  ...  state_TX  state_UT  state_VA  \\\n",
       "0            0.866029         -0.601195  ...  -0.14859  -0.14859 -0.153781   \n",
       "1            1.059390         -0.601195  ...  -0.14859  -0.14859 -0.153781   \n",
       "2           -0.755571          0.211534  ...  -0.14859  -0.14859 -0.153781   \n",
       "3           -0.078806          1.024263  ...  -0.14859  -0.14859 -0.153781   \n",
       "4           -0.276562         -0.601195  ...  -0.14859  -0.14859 -0.153781   \n",
       "\n",
       "   state_VT  state_WA  state_WI  state_WV  state_WY  international plan_yes  \\\n",
       "0 -0.149642 -0.142134   -0.1548  -0.18124 -0.153781               -0.327580   \n",
       "1 -0.149642 -0.142134   -0.1548  -0.18124 -0.153781               -0.327580   \n",
       "2 -0.149642 -0.142134   -0.1548  -0.18124 -0.153781               -0.327580   \n",
       "3 -0.149642 -0.142134   -0.1548  -0.18124 -0.153781                3.052685   \n",
       "4 -0.149642 -0.142134   -0.1548  -0.18124 -0.153781                3.052685   \n",
       "\n",
       "   voice mail plan_yes  \n",
       "0             1.617086  \n",
       "1             1.617086  \n",
       "2            -0.618396  \n",
       "3            -0.618396  \n",
       "4            -0.618396  \n",
       "\n",
       "[5 rows x 64 columns]"
      ]
     },
     "execution_count": 31,
     "metadata": {},
     "output_type": "execute_result"
    }
   ],
   "source": [
    "# Create StandardScaler object\n",
    "\n",
    "scaler = StandardScaler()\n",
    "\n",
    "# Fitting and transforming the features\n",
    "X_scaled = scaler.fit_transform(X)\n",
    "\n",
    "# Convert the scaled features back to a dataframe.\n",
    "X_scaled = pd.DataFrame(X_scaled, columns=X.columns)\n",
    "\n",
    "X_scaled.head()"
   ]
  },
  {
   "cell_type": "markdown",
   "metadata": {},
   "source": [
    "#### To check for model Imbalance "
   ]
  },
  {
   "cell_type": "code",
   "execution_count": 32,
   "metadata": {},
   "outputs": [
    {
     "name": "stdout",
     "output_type": "stream",
     "text": [
      "The dataset is imbalanced.\n"
     ]
    }
   ],
   "source": [
    "# Calculate the distribution of the target variable\n",
    "class_distribution = df['churn'].value_counts()\n",
    "\n",
    "# Check if the dataset is imbalanced \n",
    "if class_distribution[0]/class_distribution[1] > 2 or class_distribution[1] / class_distribution[0] > 2:\n",
    "    print(\"The dataset is imbalanced.\")\n",
    "else:\n",
    "    print(\"The dataset is balanced\")"
   ]
  },
  {
   "cell_type": "markdown",
   "metadata": {},
   "source": [
    "#### Handle imbalance SMOTE"
   ]
  },
  {
   "cell_type": "code",
   "execution_count": 33,
   "metadata": {},
   "outputs": [
    {
     "data": {
      "text/plain": [
       "LogisticRegression()"
      ]
     },
     "execution_count": 33,
     "metadata": {},
     "output_type": "execute_result"
    }
   ],
   "source": [
    "# Initialize SMOTE object\n",
    "smote = SMOTE(random_state = 42)\n",
    "\n",
    "    \n",
    "# Apply SMOTE to training Data\n",
    "X_train_smote,y_train_smote = smote.fit_resample(X_train,y_train)\n",
    "    \n",
    "# Initialize the logistic regression model    \n",
    "model = LogisticRegression()\n",
    "    \n",
    "# Train model on the resampled data   \n",
    "model.fit(X_train_smote,y_train_smote)"
   ]
  },
  {
   "cell_type": "markdown",
   "metadata": {},
   "source": [
    "### DATA MODELLING \n"
   ]
  },
  {
   "cell_type": "markdown",
   "metadata": {},
   "source": [
    "#### 1. Logistic Regression Model\n",
    "- we are going to use logistic regression as the baseline model."
   ]
  },
  {
   "cell_type": "markdown",
   "metadata": {},
   "source": [
    "- Logistic regression predicts the probability that an observation beolongs to a particular class using the logistic(Sigmoid) function.It has two possible outcomes either 'Yes' or 'No' "
   ]
  },
  {
   "cell_type": "code",
   "execution_count": 34,
   "metadata": {},
   "outputs": [
    {
     "data": {
      "text/plain": [
       "LogisticRegression(C=1000000000000.0, fit_intercept=False, solver='liblinear')"
      ]
     },
     "execution_count": 34,
     "metadata": {},
     "output_type": "execute_result"
    }
   ],
   "source": [
    "# creating logistics regression\n",
    "logreg = LogisticRegression(fit_intercept=False ,C=1e12, solver ='liblinear')\n",
    "\n",
    "#fitting the model on training data\n",
    "logreg.fit(X_train, y_train)"
   ]
  },
  {
   "cell_type": "code",
   "execution_count": 35,
   "metadata": {},
   "outputs": [],
   "source": [
    "# Generating predictions on the test set \n",
    "y_pred = logreg.predict(X_test)"
   ]
  },
  {
   "cell_type": "code",
   "execution_count": 36,
   "metadata": {},
   "outputs": [
    {
     "name": "stdout",
     "output_type": "stream",
     "text": [
      "Accuracy: 0.8545727136431784\n",
      "Precision: 0.5625\n",
      "Recall: 0.1782178217821782\n",
      "F1-score: 0.2706766917293233\n",
      "AUC_Lr: 0.5767414197250115\n"
     ]
    }
   ],
   "source": [
    "# Calculating the performance metrics\n",
    "\n",
    "#Accuracy\n",
    "accuracy = accuracy_score(y_test,y_pred)\n",
    "\n",
    "#Precision\n",
    "precision = precision_score(y_test,y_pred)\n",
    "\n",
    "#Recall\n",
    "recall = recall_score(y_test,y_pred)\n",
    "\n",
    "# F1-score\n",
    "f1 = f1_score(y_test,y_pred)\n",
    "\n",
    "# Calculating AUC for logistics Regression\n",
    "auc_lr=roc_auc_score(y_test,y_pred)\n",
    "\n",
    "print(\"Accuracy:\" ,accuracy)\n",
    "print(\"Precision:\" , precision)\n",
    "print(\"Recall:\", recall)\n",
    "print(\"F1-score:\", f1)\n",
    "print(\"AUC_Lr:\", auc_lr)"
   ]
  },
  {
   "cell_type": "markdown",
   "metadata": {},
   "source": [
    "- The Accuracy score is 85.46% which idicates that the model correctly classifies customers churn status .\n",
    "- The Precision score of 56.25% which suggest that when the model predicts a customer will churn and its correct by 56.25% of time.\n",
    "- The recall score is relatively low meaning the model is not capturing a significant portion of actual churners .\n",
    "- The F1_score is 27.07% which balances precision and recall its quite low indicating the poor performance in indentifying churner.\n",
    "- The AUC score is only slightly above 0.5 which means the model is slightly better  than random guessing at distinguishing between customers who churn and who doesnt churn."
   ]
  },
  {
   "cell_type": "code",
   "execution_count": 37,
   "metadata": {},
   "outputs": [
    {
     "data": {
      "image/png": "[encoded data removed]",
      "text/plain": [
       "<Figure size 432x216 with 1 Axes>"
      ]
     },
     "metadata": {
      "needs_background": "light"
     },
     "output_type": "display_data"
    }
   ],
   "source": [
    "# Generate predictions on the test set\n",
    "y_pred = logreg.predict(X_test)\n",
    "\n",
    "# Build confusion matrix\n",
    "conf_matrix = confusion_matrix(y_test, y_pred)\n",
    "\n",
    "# Visualize the Matrix \n",
    "plt.figure (figsize=(6,3))\n",
    "sns.heatmap(conf_matrix, annot=True, cmap='Blues',fmt='d',cbar=False,\n",
    "            xticklabels=['Predicted Negative', 'Predicted Positive'],\n",
    "            yticklabels=['Actual Neg','Actual Pos'])\n",
    "plt.xlabel('Predicted Label')\n",
    "plt.ylabel('True label')\n",
    "plt.title('Confusion Matrix')\n",
    "plt.show()"
   ]
  },
  {
   "cell_type": "markdown",
   "metadata": {},
   "source": [
    "- True Negative(TN):552 -the model correctly predicts the 552 customers as not churning \n",
    "- False positive(FP):14 - the model incorrectly predicted 14 customers as churning when they actually did not.\n",
    "- False Negative(FN): 83 - The model incorrectly predicted 83 customers as not churning when they actually did\n",
    "- True Positive(TP): 18 - The model correctly predicted 18 customers as churning."
   ]
  },
  {
   "cell_type": "markdown",
   "metadata": {},
   "source": [
    "### Random Forest"
   ]
  },
  {
   "cell_type": "code",
   "execution_count": 38,
   "metadata": {},
   "outputs": [],
   "source": [
    "# Initializing the random forest model\n",
    "rf_model = RandomForestClassifier(random_state=42)"
   ]
  },
  {
   "cell_type": "code",
   "execution_count": 39,
   "metadata": {},
   "outputs": [
    {
     "data": {
      "text/plain": [
       "RandomForestClassifier(random_state=42)"
      ]
     },
     "execution_count": 39,
     "metadata": {},
     "output_type": "execute_result"
    }
   ],
   "source": [
    "#Training the the Random Forest model on the training data\n",
    "rf_model.fit(X_train,y_train)"
   ]
  },
  {
   "cell_type": "code",
   "execution_count": 40,
   "metadata": {},
   "outputs": [],
   "source": [
    "# Generate predictions on the test data\n",
    "y_pred_rf = rf_model.predict(X_test)"
   ]
  },
  {
   "cell_type": "code",
   "execution_count": 41,
   "metadata": {},
   "outputs": [
    {
     "name": "stdout",
     "output_type": "stream",
     "text": [
      "Random Forest Metrics:\n",
      "Accuracy: 0.9280359820089955\n",
      "Precision 1.0\n",
      "Recall: 0.5247524752475248\n",
      "F1-score: 0.6883116883116883\n",
      "ROC AUC Score: 0.7623762376237624\n"
     ]
    }
   ],
   "source": [
    "# calculating the accuracy\n",
    "accuracy_rf = accuracy_score(y_test,y_pred_rf)\n",
    "\n",
    "# Calculating the precision\n",
    "precision_rf = precision_score(y_test,y_pred_rf)\n",
    "\n",
    "#calculating the recall\n",
    "recall_rf=recall_score(y_test,y_pred_rf)\n",
    "\n",
    "# calculating the F1-score\n",
    "f1_rf=f1_score(y_test,y_pred_rf)\n",
    "\n",
    "# Calculating the ROCAUC score\n",
    "roc_auc_rf =roc_auc_score(y_test,y_pred_rf)\n",
    "\n",
    "#Printing the performance metrics\n",
    "\n",
    "print('Random Forest Metrics:')\n",
    "print('Accuracy:', accuracy_rf)\n",
    "print('Precision', precision_rf)\n",
    "print('Recall:', recall_rf)\n",
    "print('F1-score:', f1_rf)\n",
    "print('ROC AUC Score:', roc_auc_rf)"
   ]
  },
  {
   "cell_type": "markdown",
   "metadata": {},
   "source": [
    "- The accuracy score is 92.8% hence it makes correct predictions most of the time. \n",
    "\n",
    "- Precision score is a perfect precision meaning all the predicted positives are actual positives.\n",
    "\n",
    "- The recall score 52.5% which shows the  model is missing almost half of the actual positives.\n",
    "\n",
    "- The F1-score 68.8% shows the balance between precision and recall\n",
    "\n"
   ]
  },
  {
   "cell_type": "markdown",
   "metadata": {},
   "source": [
    "#### Conclusion "
   ]
  },
  {
   "cell_type": "markdown",
   "metadata": {},
   "source": [
    "- The high precision but low recall suggests that the model is conservative in predicting the positive class \n",
    "- The F1-score is moderate meaning there is room for improvement \n"
   ]
  },
  {
   "cell_type": "markdown",
   "metadata": {},
   "source": [
    "### Confusion Matrix "
   ]
  },
  {
   "cell_type": "code",
   "execution_count": 42,
   "metadata": {},
   "outputs": [
    {
     "data": {
      "image/png": "[encoded data removed]",
      "text/plain": [
       "<Figure size 432x288 with 1 Axes>"
      ]
     },
     "metadata": {
      "needs_background": "light"
     },
     "output_type": "display_data"
    }
   ],
   "source": [
    "# Confusion matrix for Random Forest Model\n",
    "conf_matrix_rf = confusion_matrix(y_test,y_pred_rf)\n",
    "\n",
    "# Visualize the Matrix \n",
    "plt.figure(figsize=(6,4))\n",
    "sns.heatmap(conf_matrix_rf, annot=True,cmap='Blues',fmt='d',cbar=False,\n",
    "           xticklabels=['Predicted Negative', 'Predicted Positive '],\n",
    "           yticklabels=['Actual Negative', 'Actual Positive'])\n",
    "plt.xlabel('Predicted label')\n",
    "plt.ylabel('True label')\n",
    "plt.title('Confusion Matrix -Random Forest Model')\n",
    "plt.show()"
   ]
  },
  {
   "cell_type": "markdown",
   "metadata": {},
   "source": [
    "- True Negatives(TN) - 566 which correctly predicted negatives\n",
    "\n",
    "- False Positives(FP) - Here we have No negative instances were wrongly classified as positive which explains the perfect precision.\n",
    "\n",
    "- False Negative(FN) - 48 missed 48 actuaal positive cases.\n",
    "\n",
    "- True Positive(TP) -53 which correctly identified positives ."
   ]
  },
  {
   "cell_type": "markdown",
   "metadata": {},
   "source": [
    "#### Conclusion"
   ]
  },
  {
   "cell_type": "markdown",
   "metadata": {},
   "source": [
    "- The high false negatives shows the model is missing many actual churn cases which aligns with the low recall \n",
    "\n",
    "- Perfect Precision but Low Recall shows the model is very cautious in predicting positives possibly due to an  imbalanced dataset.\n"
   ]
  },
  {
   "cell_type": "markdown",
   "metadata": {},
   "source": [
    "### Decision Tree Model"
   ]
  },
  {
   "cell_type": "code",
   "execution_count": 43,
   "metadata": {},
   "outputs": [
    {
     "data": {
      "text/plain": [
       "DecisionTreeClassifier(random_state=42)"
      ]
     },
     "execution_count": 43,
     "metadata": {},
     "output_type": "execute_result"
    }
   ],
   "source": [
    "# Creating an instance of DesicionTreeClassifier\n",
    "dt = DecisionTreeClassifier(random_state=42)\n",
    "\n",
    "# Fit the model to the training data\n",
    "dt.fit(X_train, y_train)"
   ]
  },
  {
   "cell_type": "code",
   "execution_count": 44,
   "metadata": {},
   "outputs": [],
   "source": [
    "# Genarating predictions on the test set\n",
    "y_pred_dt = dt.predict(X_test)"
   ]
  },
  {
   "cell_type": "code",
   "execution_count": 45,
   "metadata": {},
   "outputs": [
    {
     "name": "stdout",
     "output_type": "stream",
     "text": [
      "Accuracy: 0.9250374812593704\n",
      "Precision: 0.7684210526315789\n",
      "Recall: 0.7227722772277227\n",
      "F1-score: 0.7448979591836735\n",
      "auc_dt: 0.8419515096385963\n"
     ]
    }
   ],
   "source": [
    "# Calculating the performance on the test set \n",
    "accuracy_dt = accuracy_score(y_test, y_pred_dt)\n",
    "\n",
    "precision_dt = precision_score(y_test, y_pred_dt)\n",
    "\n",
    "recall_dt = recall_score(y_test, y_pred_dt)\n",
    "\n",
    "f1_dt = f1_score(y_test, y_pred_dt)\n",
    "\n",
    "\n",
    "# Calculating AUC for Decision Tree\n",
    "auc_dt=roc_auc_score(y_test,y_pred_dt)\n",
    "\n",
    "# Print the performance metrics \n",
    "print('Accuracy:',accuracy_dt)\n",
    "print('Precision:', precision_dt)\n",
    "print('Recall:', recall_dt)\n",
    "print('F1-score:', f1_dt)\n",
    "print('auc_dt:', auc_dt)"
   ]
  },
  {
   "cell_type": "markdown",
   "metadata": {},
   "source": [
    "- Accuracy of 92.5% the model is making correct predictions most of the time.\n",
    "\n",
    "- Precision of 76.8% the model predicts a positive cases.\n",
    "\n",
    "- Recall of 72.3% the model identifies 72.3% of actual positive cases.\n",
    "\n",
    "- F1-score of 74.5% shows a balanced measure of precision and recall,indicatinga decent overall performance.\n",
    "\n",
    "- AUC(roc_auc_score) of 84.19% is the model has a good ability to distinguish between classes."
   ]
  },
  {
   "cell_type": "markdown",
   "metadata": {},
   "source": [
    "### Conclusion"
   ]
  },
  {
   "cell_type": "markdown",
   "metadata": {},
   "source": [
    "- The Desicion Tree model performs well with a high accuracy of 92.5% and a good AUC score(84.9%),indicating a strong ability to differentiate between classes..\n"
   ]
  },
  {
   "cell_type": "markdown",
   "metadata": {},
   "source": [
    "#### Confusion Matrix"
   ]
  },
  {
   "cell_type": "code",
   "execution_count": 46,
   "metadata": {},
   "outputs": [
    {
     "data": {
      "image/png": "[encoded data removed]",
      "text/plain": [
       "<Figure size 432x288 with 1 Axes>"
      ]
     },
     "metadata": {
      "needs_background": "light"
     },
     "output_type": "display_data"
    }
   ],
   "source": [
    "# Generating predictions on the test set\n",
    "y_pred_dt = dt.predict(X_test)\n",
    "\n",
    "# Building confusion matrix\n",
    "conf_matrix_dt = confusion_matrix(y_test,y_pred_dt)\n",
    "\n",
    "# Visualization the Matrix\n",
    "plt.figure(figsize=(6,4))\n",
    "sns.heatmap(conf_matrix_dt, annot=True, cmap='Blues', fmt='d',cbar=False,\n",
    "           xticklabels=['Predicted Negative', 'Predicted Positive'],\n",
    "           yticklabels=['Actual Negative', 'Actual Positive'])\n",
    "plt.xlabel('Predicted Label')\n",
    "plt.ylabel('True Label')\n",
    "plt.title('Decision Tree Confusion Matrix')\n",
    "plt.show()"
   ]
  },
  {
   "cell_type": "markdown",
   "metadata": {},
   "source": [
    "- The Decision Tree Model correctly classified 544 true negatives and 73 true positives but misclassified 22 false positives and 28 false negatives,indicating a slighty better performance in detecting negative cases."
   ]
  },
  {
   "cell_type": "markdown",
   "metadata": {},
   "source": [
    "#### Hyperparameter Tuning \n"
   ]
  },
  {
   "cell_type": "code",
   "execution_count": 47,
   "metadata": {},
   "outputs": [
    {
     "name": "stdout",
     "output_type": "stream",
     "text": [
      "Best Parameters: {'max_depth': None, 'max_features': 'auto', 'min_samples_leaf': 1, 'min_samples_split': 2, 'n_estimators': 200}\n",
      "Best Accuracy: 0.9358601935198262\n",
      "AUC: 0.7623762376237624\n"
     ]
    }
   ],
   "source": [
    "# Defining the parameter grid\n",
    "param_grid = {\n",
    "           'n_estimators': [50,100,200],\n",
    "           'max_depth': [None, 10,20],\n",
    "           'min_samples_split':[2,5,10],\n",
    "           'min_samples_leaf': [1,2,4],\n",
    "           'max_features': ['auto','sqrt','log2']\n",
    "           }\n",
    "\n",
    "# Creating the random forest classifier\n",
    "rf_model = RandomForestClassifier(random_state=42)\n",
    "\n",
    "#Perform grid search with 5-fold cross-validation\n",
    "grid_search = GridSearchCV(estimator=rf_model,param_grid=param_grid,cv=5,scoring='accuracy',n_jobs=-1)\n",
    "\n",
    "# Fit the grid search to the data\n",
    "grid_search.fit(X_train, y_train)\n",
    "\n",
    "#Calculating AUC score for the tuned Random Forest Classifier\n",
    "auc_rf_tuned = roc_auc_score(y_test, y_pred_rf)\n",
    "\n",
    "# Getting the best parameters and best score\n",
    "best_params = grid_search.best_params_\n",
    "best_score = grid_search.best_score_\n",
    "\n",
    "print('Best Parameters:', best_params)\n",
    "print('Best Accuracy:', best_score)\n",
    "print('AUC:', auc_rf_tuned)"
   ]
  },
  {
   "cell_type": "markdown",
   "metadata": {},
   "source": [
    "- The hyperparameter tuning has improved the accuracy to 93.59% which is an improvement from the previous 92.8%.\n",
    "- max_depth:None(this means the trees can grow fully), max_features:auto(meaning using aall features for splitting), min_sample_leaf:1(allowing deeper trees), min_samples_split:2 (it splits nodes even with just two samples),n_estimators:20( it uses 20  trees in the forest).\n",
    "\n",
    "- The grid search has proved effective in optimizing model performance thus resulting in a more accurate churn prediction model.\n"
   ]
  },
  {
   "cell_type": "markdown",
   "metadata": {},
   "source": [
    "#### The AUC values of Logistic Regression, Random Forest and Decision Tree Model."
   ]
  },
  {
   "cell_type": "code",
   "execution_count": 48,
   "metadata": {},
   "outputs": [],
   "source": [
    "# Fitting the random forest model to the training data\n",
    "rf_model.fit(X_train, y_train)\n",
    "\n",
    "# Getting predicted probabilities for logistic Regression\n",
    "y_prob_lr =logreg.predict_proba(X_test)[:, 1]\n",
    "\n",
    "# Getting the predicted probabilities for Random Forest\n",
    "y_prob_rf= rf_model.predict_proba(X_test)[:, 1]\n",
    "\n",
    "# Getting the predicted probabilities for Decision Tree\n",
    "y_prob_dt =dt.predict_proba(X_test)[:, 1]\n",
    "\n",
    "# Getting the ROC curve for logistic Regression\n",
    "fpr_lr,tpr_lr, _ =roc_curve (y_test, y_prob_lr)\n",
    "\n",
    "# Getting the ROC curve for Random forest\n",
    "fpr_rf,tpr_rf,_ = roc_curve(y_test,y_prob_rf)\n",
    "\n",
    "# Getting the ROC curve for Decision Tree\n",
    "fpr_dt,tpr_dt,_ = roc_curve(y_test,y_prob_dt)\n",
    "\n",
    "\n"
   ]
  },
  {
   "cell_type": "code",
   "execution_count": 49,
   "metadata": {},
   "outputs": [
    {
     "data": {
      "image/png": "[encoded data removed]",
      "text/plain": [
       "<Figure size 576x432 with 1 Axes>"
      ]
     },
     "metadata": {
      "needs_background": "light"
     },
     "output_type": "display_data"
    }
   ],
   "source": [
    "# Calculating AUC ROC scores\n",
    "auc_lr =roc_auc_score(y_test,y_prob_lr)\n",
    "auc_rf = roc_auc_score(y_test,y_prob_rf)\n",
    "auc_dt = roc_auc_score(y_test,y_prob_dt)\n",
    "\n",
    "#Plot ROC curves\n",
    "plt.figure(figsize=(8,6))\n",
    "plt.plot(fpr_lr,tpr_lr, label=f'Logistic Regression(AUC ={auc_lr:.2f})')\n",
    "plt.plot(fpr_rf, tpr_rf,label =f'Random Forest(AUC ={auc_rf:.2f})')\n",
    "plt.plot(fpr_dt,tpr_dt,label =f'Decision Tree(AUC = {auc_dt:.2f})')\n",
    "\n",
    "#plotting the ROC curve for random guessing \n",
    "plt.plot([0,1],[0,1],linestyle='--', color='grey')\n",
    "\n",
    "plt.xlabel('False Pos Rate')\n",
    "plt.ylabel('True Pos Rate')\n",
    "plt.title('Receiver Operating X-stics Curve')\n",
    "plt.legend()\n",
    "plt.show()"
   ]
  },
  {
   "cell_type": "markdown",
   "metadata": {},
   "source": [
    "#### MODEL EVALUATION"
   ]
  },
  {
   "cell_type": "markdown",
   "metadata": {},
   "source": [
    "##### Logistic Regression "
   ]
  },
  {
   "cell_type": "markdown",
   "metadata": {},
   "source": [
    "- Accuracy:0.8546, Precision :0.5625, Recall:0.1782, F1-score:0.2706 ,AUC_Lr:0.5767 \n",
    "- Summary :The model has high accuracy but poor recall and F1-score indicating that its biased towards predicting non-churners hence its not effective in identifying actual churners. "
   ]
  },
  {
   "cell_type": "markdown",
   "metadata": {},
   "source": [
    "#### Decision Tree"
   ]
  },
  {
   "cell_type": "markdown",
   "metadata": {},
   "source": [
    "- Accuracy:0.9250,Precision:0.7684,Recall:0.7227,F1-Score:0.7449,AUC_Dt:0.8419\n",
    "- Summary:The Decision tree model has significantly improved the recall and presicion compared to logistic regression making it better at detecting churn."
   ]
  },
  {
   "cell_type": "markdown",
   "metadata": {},
   "source": [
    "#### Random Forest"
   ]
  },
  {
   "cell_type": "markdown",
   "metadata": {},
   "source": [
    "- Accuracy: 0.9280, Precision:1.0 ,Recall:0.5248 F1-score:0.6883,AUC_Rf:0.7624\n",
    "- Summary : The regression Model seems to be the best model since it has a very precision and a good overall accuracy "
   ]
  },
  {
   "cell_type": "markdown",
   "metadata": {},
   "source": [
    "#### Feature Importance in Random Forest "
   ]
  },
  {
   "cell_type": "code",
   "execution_count": 51,
   "metadata": {},
   "outputs": [
    {
     "data": {
      "image/png": "[encoded data removed]",
      "text/plain": [
       "<Figure size 720x432 with 1 Axes>"
      ]
     },
     "metadata": {
      "needs_background": "light"
     },
     "output_type": "display_data"
    }
   ],
   "source": [
    "# Extracting feature importance\n",
    "feature_importances =rf_model.feature_importances_\n",
    "\n",
    "#Creating a DataFrame for better visualization\n",
    "feature_df= pd.DataFrame({'Feature':X_train.columns,'Importance':feature_importances})\n",
    "\n",
    "#Sorting features by importance \n",
    "feature_df = feature_df.sort_values(by='Importance',ascending=False)\n",
    "\n",
    "#Selecting the top features to avoid overcrowding\n",
    "top_n =5\n",
    "top_features = feature_df.head(top_n)\n",
    "\n",
    "\n",
    "#Plotting feature importance\n",
    "plt.figure(figsize=(10,6))\n",
    "plt.barh(top_features['Feature'],top_features['Importance'],color='royalblue')\n",
    "plt.xlabel('Importance Score')\n",
    "plt.ylabel('Feature Name')\n",
    "plt.title(f'Top{top_n} Most Important features')\n",
    "plt.gca().invert_yaxis()  #inverts to show the highest importance at the top \n",
    "plt.show()\n"
   ]
  },
  {
   "cell_type": "markdown",
   "metadata": {},
   "source": [
    "### Findings\n",
    "\n",
    "1. Total day charge -indicates that higher charges correlate with increased churn probability.\n",
    "\n",
    "2. Customer service calls - more calls to customer service indicate higher churn risk \n",
    "\n",
    "3. Total Evening minutes -indicates that more evening call time affects rentention.\n",
    "\n",
    "4. International Plan(Yes/No)- Customers with international plans showed a higher tendency to churn.\n",
    "\n",
    "5. Total International Charge -Higher international call charges impact churn behaviour."
   ]
  },
  {
   "cell_type": "markdown",
   "metadata": {},
   "source": [
    "### Recommendations"
   ]
  },
  {
   "cell_type": "markdown",
   "metadata": {},
   "source": [
    "1. Monitor High-spending customers: by identifying customers with high total day and international charges and offer discounts or Loyalty rewards to encourage retention or provide personalized plans to reduce churn due to costs concerns.\n",
    "\n",
    "2. Improve Customer support - by analyzing customer service interactions to determine common complaints and investing in proactive customer support to resolve issues before they escalate. \n",
    "\n",
    "3. Developing a churn Prevention strategy -use early warning systems to detect at risk customers and send targeted retention offers by implementing feedback loops where customers can express concerns before they decide to leave.\n",
    "\n",
    "4. Analyze call usage patterns - by creating tailored call plans based on usage trends to offer better value for evening callers and conducting surveys to understand customers preferences and adapt pricing structures accordingly.\n",
    "\n",
    "5. Review international plan offers - customers with international plans show a significant churn risk also by improving international plan pricing network quality or promortional incentives to retain these users."
   ]
  },
  {
   "cell_type": "markdown",
   "metadata": {},
   "source": [
    "### Next steps"
   ]
  },
  {
   "cell_type": "markdown",
   "metadata": {},
   "source": [
    "- Improve the Model performance -Continuously fine-tuning the churn prediction model to enhance accuracy and reliability.\n",
    "- Enhancing data quality - Identify and incorporate additional customer behaviour patterns and engagement metrics to strenghthen predictions\n",
    "- Deploy for Business Use -Intergrating the model into company systems to provide actionable churn insights for rentention strategies.\n",
    "- Track and Maintain Accuracy "
   ]
  },
  {
   "cell_type": "code",
   "execution_count": null,
   "metadata": {},
   "outputs": [],
   "source": []
  }
 ],
 "metadata": {
  "kernelspec": {
   "display_name": "Python (learn-env)",
   "language": "python",
   "name": "learn-env"
  },
  "language_info": {
   "codemirror_mode": {
    "name": "ipython",
    "version": 3
   },
   "file_extension": ".py",
   "mimetype": "text/x-python",
   "name": "python",
   "nbconvert_exporter": "python",
   "pygments_lexer": "ipython3",
   "version": "3.8.5"
  }
 },
 "nbformat": 4,
 "nbformat_minor": 4
}
